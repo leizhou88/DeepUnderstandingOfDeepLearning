{
 "cells": [
  {
   "cell_type": "markdown",
   "metadata": {},
   "source": [
    "# Text and Plots"
   ]
  },
  {
   "cell_type": "markdown",
   "metadata": {},
   "source": [
    "## Printing and String Interpolation\n",
    "Python's `print` function supports string interpolation using templates. "
   ]
  },
  {
   "cell_type": "markdown",
   "metadata": {},
   "source": [
    "### Interpolation Method 1 - template string"
   ]
  },
  {
   "cell_type": "code",
   "execution_count": 1,
   "metadata": {},
   "outputs": [
    {
     "name": "stdout",
     "output_type": "stream",
     "text": [
      "I'd like to order 11.7 cellar doors!\n",
      "I'd like to order 11.700000 cellar doors!\n",
      "I'd like to order 11.7 cellar doors!\n",
      "I'd like to order 11 cellar doors!\n"
     ]
    }
   ],
   "source": [
    "num = 11.7\n",
    "thing = \"cellar doors\"\n",
    "\n",
    "# %g prints a given numeric value without rounding or conversion\n",
    "print (\"I'd like to order %g %s!\" %(num, thing))\n",
    "\n",
    "# %f prints a given numeric value as float\n",
    "print (\"I'd like to order %f %s!\" %(num, thing))\n",
    "\n",
    "# %3.1f prints a given numeric value as float but keeps only one digit after decimal point\n",
    "print (\"I'd like to order %.1f %s!\" %(num, thing))\n",
    "\n",
    "# %i prints a given numeric value as integer\n",
    "print (\"I'd like to order %i %s!\" %(num, thing))"
   ]
  },
  {
   "cell_type": "code",
   "execution_count": 2,
   "metadata": {},
   "outputs": [
    {
     "ename": "TypeError",
     "evalue": "must be real number, not str",
     "output_type": "error",
     "traceback": [
      "\u001b[1;31m---------------------------------------------------------------------------\u001b[0m",
      "\u001b[1;31mTypeError\u001b[0m                                 Traceback (most recent call last)",
      "Cell \u001b[1;32mIn[2], line 2\u001b[0m\n\u001b[0;32m      1\u001b[0m \u001b[38;5;66;03m## this causes type error as '5.002' is not a number\u001b[39;00m\n\u001b[1;32m----> 2\u001b[0m \u001b[38;5;28mprint\u001b[39m (\u001b[38;5;124;43m\"\u001b[39;49m\u001b[38;5;124;43mI\u001b[39;49m\u001b[38;5;124;43m'\u001b[39;49m\u001b[38;5;124;43md like to order \u001b[39;49m\u001b[38;5;132;43;01m%g\u001b[39;49;00m\u001b[38;5;124;43m \u001b[39;49m\u001b[38;5;132;43;01m%s\u001b[39;49;00m\u001b[38;5;124;43m!\u001b[39;49m\u001b[38;5;124;43m\"\u001b[39;49m\u001b[43m \u001b[49m\u001b[38;5;241;43m%\u001b[39;49m\u001b[43m(\u001b[49m\u001b[38;5;124;43m'\u001b[39;49m\u001b[38;5;124;43m5.002\u001b[39;49m\u001b[38;5;124;43m'\u001b[39;49m\u001b[43m,\u001b[49m\u001b[43m \u001b[49m\u001b[43mthing\u001b[49m\u001b[43m)\u001b[49m)\n",
      "\u001b[1;31mTypeError\u001b[0m: must be real number, not str"
     ]
    }
   ],
   "source": [
    "## this causes type error as '5.002' is not a number\n",
    "print (\"I'd like to order %g %s!\" %('5.002', thing))"
   ]
  },
  {
   "cell_type": "markdown",
   "metadata": {},
   "source": [
    "### Interpolation Method 2 - `f string`\n",
    "This is just another way of interpolating string messages. It looks more concise but doesn't do anything extra than method 1 above. "
   ]
  },
  {
   "cell_type": "code",
   "execution_count": null,
   "metadata": {},
   "outputs": [],
   "source": [
    "# note the 'f' before the text template\n",
    "print (f\"I'd like to order {num} {thing}!\")\n",
    "\n",
    "# specifying number formatting\n",
    "print (f\"I'd like to order {num:.2f} {thing}!\")\n"
   ]
  },
  {
   "cell_type": "markdown",
   "metadata": {},
   "source": [
    "### The `string` library\n",
    "This is another util library for text processing. "
   ]
  },
  {
   "cell_type": "code",
   "execution_count": null,
   "metadata": {},
   "outputs": [],
   "source": [
    "import string\n",
    "letters = string.ascii_letters\n",
    "letters2 = string.ascii_lowercase\n",
    "letters3 = string.ascii_uppercase\n",
    "print (letters), print(letters2), print(letters3)"
   ]
  },
  {
   "cell_type": "markdown",
   "metadata": {},
   "source": [
    "## Plotting texts with matplotlib"
   ]
  },
  {
   "cell_type": "code",
   "execution_count": 3,
   "metadata": {},
   "outputs": [
    {
     "ename": "ModuleNotFoundError",
     "evalue": "No module named 'matplotlib'",
     "output_type": "error",
     "traceback": [
      "\u001b[1;31m---------------------------------------------------------------------------\u001b[0m",
      "\u001b[1;31mModuleNotFoundError\u001b[0m                       Traceback (most recent call last)",
      "Cell \u001b[1;32mIn[3], line 1\u001b[0m\n\u001b[1;32m----> 1\u001b[0m \u001b[38;5;28;01mimport\u001b[39;00m \u001b[38;5;21;01mmatplotlib\u001b[39;00m\u001b[38;5;21;01m.\u001b[39;00m\u001b[38;5;21;01mpyplot\u001b[39;00m \u001b[38;5;28;01mas\u001b[39;00m \u001b[38;5;21;01mplt\u001b[39;00m\n\u001b[0;32m      2\u001b[0m \u001b[38;5;28;01mimport\u001b[39;00m \u001b[38;5;21;01mnumpy\u001b[39;00m \u001b[38;5;28;01mas\u001b[39;00m \u001b[38;5;21;01mnp\u001b[39;00m\n",
      "\u001b[1;31mModuleNotFoundError\u001b[0m: No module named 'matplotlib'"
     ]
    }
   ],
   "source": [
    "import matplotlib.pyplot as plt\n",
    "import numpy as np"
   ]
  },
  {
   "cell_type": "markdown",
   "metadata": {},
   "source": [
    "The following example shows different ways of plotting text *without any data*. This is an extreme use case to draw attention to the caveats of `matplotlib` when text is separated from data in the plots."
   ]
  },
  {
   "cell_type": "code",
   "execution_count": 4,
   "metadata": {},
   "outputs": [
    {
     "data": {
      "image/png": "[encoded data removed]",
      "text/plain": [
       "<Figure size 300x200 with 1 Axes>"
      ]
     },
     "metadata": {},
     "output_type": "display_data"
    }
   ],
   "source": [
    "\n",
    "# Create a simple plot\n",
    "# plt.plot([1, 2, 3], [4, 5, 6])\n",
    "\n",
    "fig = plt.figure(figsize=(3,2), layout='tight')\n",
    "\n",
    "# plt.axis('off')\n",
    "\n",
    "# Display the plot\n",
    "\n",
    "plt.xlabel('X-axis')\n",
    "plt.ylabel('Y-axis')\n",
    "\n",
    "# Add text annotations\n",
    "plt.text(0.25, 0.5, 'Point A', fontsize=12, color='red')\n",
    "plt.text(0.75, 1, 'Point B', fontsize=12, color='blue')\n",
    "plt.text(1.25, 1.5, 'Point C', fontsize=12, color='green')\n",
    "\n",
    "plt.title('Plot with Text Annotations', pad=30)\n",
    "plt.show()"
   ]
  },
  {
   "cell_type": "markdown",
   "metadata": {},
   "source": [
    "We see that the `x` and `y` axis are not scaled in-sync with the text positioning. \n",
    "Event the `Title` needs explicit padding to keep it outof the plotting area - try remove the `padding` argument from the `title()` call. "
   ]
  },
  {
   "cell_type": "markdown",
   "metadata": {},
   "source": [
    "## Plotting dots and lines using MatplotLib\n",
    "Matplotlib is a versatile and widely-used plotting library in Python. It offers a variety of plotting options to create different types of visualizations. "
   ]
  },
  {
   "cell_type": "code",
   "execution_count": null,
   "metadata": {},
   "outputs": [],
   "source": [
    "# plotting a triangle shape\n",
    "plt.plot(2.5, 2,\"^\")\n",
    "plt.plot(2.2, 2, \"*\")\n",
    "\n",
    "# you can plot as much as you like - all going to a single \"graph\"\n",
    "# plt.show() completes the graph\n",
    "plt.show()\n",
    "\n",
    "x = [0,1]\n",
    "y = [1, 2]\n",
    "plt.plot(x,y,\"m\")\n",
    "plt.show()"
   ]
  },
  {
   "cell_type": "markdown",
   "metadata": {},
   "source": [
    "### Basic Plots\n",
    "* Line Plot: Ideal for visualizing trends over time or continuous data. Created using plt.plot().\n",
    "* Scatter Plot: Used to show the relationship between two variables. Created using plt.scatter().\n",
    "* Bar Plot: Useful for comparing categorical data. Created using plt.bar() for vertical bars and plt.barh() for horizontal bars.\n",
    "*Histogram: Displays the distribution of a dataset. Created using plt.hist().\n",
    "*Pie Chart: Represents proportions of a whole. Created using plt.pie().\n"
   ]
  },
  {
   "cell_type": "markdown",
   "metadata": {},
   "source": [
    "\n",
    "### Advanced Plots\n",
    "* Box Plot: Summarizes data with quartiles, highlighting the median and outliers. Created using plt.boxplot().\n",
    "* Heatmap: Visualizes data in a matrix format, using color to represent values. Created using plt.imshow() or sns.heatmap() (Seaborn integration).\n",
    "* Contour Plot: Displays 3D data in two dimensions, with contour lines representing different values. Created using plt.contour() and plt.contourf().\n",
    "* 3D Plot: Useful for three-dimensional data visualization. Created using Axes3D from mpl_toolkits.mplot3d."
   ]
  },
  {
   "cell_type": "markdown",
   "metadata": {},
   "source": [
    "### figure, ax = plt.subplots()\n",
    "A very useful subplotting method allowing us to create multiple plots before showing them. \n",
    "* `figure` is the top level container (or canvas) that sub plots are created within. \n",
    "* `ax` is an array of `Axes` objects, each representing a subplot within the Figure."
   ]
  },
  {
   "cell_type": "code",
   "execution_count": null,
   "metadata": {},
   "outputs": [],
   "source": [
    "fig,ax = plt.subplots(1,2, figsize=(12,3))\n",
    "x = np.arange(10)\n",
    "ax[0].plot(x,x**2, 'b')\n",
    "ax[1].plot(x, np.sqrt(x), 'r')\n",
    "\n",
    "# optimize the graph layout: \n",
    "# plt.tight_layout()\n",
    "\n",
    "fig.suptitle('Figure with Multiple Subplots')\n",
    "plt.show()"
   ]
  },
  {
   "cell_type": "markdown",
   "metadata": {},
   "source": [
    "## Using `seaborn`\n",
    "`seaborn` is another library that is commonly used with `pandas` and often abbreviated as `sns`."
   ]
  },
  {
   "cell_type": "code",
   "execution_count": 1,
   "metadata": {},
   "outputs": [],
   "source": [
    "import matplotlib.pyplot as plt \n",
    "import numpy as np\n",
    "import pandas as pd\n",
    "\n",
    "## typically included with matplotlib installation: \n",
    "import seaborn as sns  "
   ]
  },
  {
   "cell_type": "markdown",
   "metadata": {},
   "source": [
    "### `sns.jointplot()`"
   ]
  },
  {
   "cell_type": "code",
   "execution_count": null,
   "metadata": {},
   "outputs": [],
   "source": [
    "n = 200\n",
    "D = np.zeros((n,2))\n",
    "D[:,0] = np.linspace(0,10,n) + np.random.randn(n)\n",
    "D[:,1] = D[:,0] **2 + np.random.randn(n)*10\n",
    "\n",
    "# !!!!!\n",
    "sns.jointplot(x=D[:,0], y=D[:,1], height=3 , ratio=3, space=0.5)\n",
    "\n",
    "plt.figure(figsize=(0.5,0.5))\n",
    "plt.show()"
   ]
  },
  {
   "cell_type": "markdown",
   "metadata": {},
   "source": [
    "### `sns.scatterplot()`"
   ]
  },
  {
   "cell_type": "markdown",
   "metadata": {},
   "source": [
    "* See [scatterplot() reference](https://seaborn.pydata.org/generated/seaborn.scatterplot.html)\n",
    "* See [color_palette](https://seaborn.pydata.org/generated/seaborn.color_palette.html#seaborn.color_palette)"
   ]
  },
  {
   "cell_type": "code",
   "execution_count": null,
   "metadata": {},
   "outputs": [],
   "source": [
    "x = np.linspace(-1, 1, n) # value 'n' from previous section\n",
    "y1 = x**2\n",
    "y2 = np.sin(3*x)\n",
    "y3 = np.exp(-3*x**2)\n",
    "\n",
    "plt.figure(figsize=(5,3))\n",
    "\n",
    "# compare the two lines in working: \n",
    "#sns.scatterplot(x=y1, y=y2, hue=y3)\n",
    "#sns.scatterplot(x=y1, y=y2, hue=y3, palette='dark:#5A9_r')\n",
    "#sns.scatterplot(x=y1, y=y2, hue=y3, palette='flare')\n",
    "sns.scatterplot(x=y1, y=y2, hue=y3, palette='ch:s=.25,rot=-.25')\n",
    "\n",
    "plt.show()\n"
   ]
  },
  {
   "cell_type": "markdown",
   "metadata": {},
   "source": [
    "### `sns.regplot()`"
   ]
  },
  {
   "cell_type": "markdown",
   "metadata": {},
   "source": [
    "* See [regplot reference](https://seaborn.pydata.org/generated/seaborn.regplot.html)"
   ]
  },
  {
   "cell_type": "markdown",
   "metadata": {},
   "source": [
    "## `plt.imshow()`"
   ]
  },
  {
   "cell_type": "markdown",
   "metadata": {},
   "source": [
    "### Heat Map using `plt.imshow()`"
   ]
  },
  {
   "cell_type": "code",
   "execution_count": 7,
   "metadata": {},
   "outputs": [
    {
     "name": "stdout",
     "output_type": "stream",
     "text": [
      "[[8 2 8 5 5]\n",
      " [2 4 2 9 2]\n",
      " [4 8 7 0 8]]\n"
     ]
    },
    {
     "data": {
      "image/png": "[encoded data removed]",
      "text/plain": [
       "<Figure size 500x300 with 2 Axes>"
      ]
     },
     "metadata": {},
     "output_type": "display_data"
    }
   ],
   "source": [
    "m = 3\n",
    "n = 5\n",
    "M = np.random.randint(10, size=(m,n))\n",
    "print(M)\n",
    "\n",
    "plt.figure(figsize=(5,3))\n",
    "plt.imshow(M)\n",
    "#plt.plot(M)\n",
    "\n",
    "plt.colorbar()\n",
    "plt.show()"
   ]
  },
  {
   "cell_type": "markdown",
   "metadata": {},
   "source": [
    "### Read and Plot Images - `imageio` Library"
   ]
  },
  {
   "cell_type": "code",
   "execution_count": 11,
   "metadata": {},
   "outputs": [],
   "source": [
    "# we only use imread function in this notebook\n",
    "from imageio.v3 import imread  "
   ]
  },
  {
   "cell_type": "markdown",
   "metadata": {},
   "source": [
    "Since `imageio.v2` and `imageio.v3` produces different image data structure depending on the image type and format, we have to explicitly specify the version in the `import` statement.\n",
    "\n",
    "For V2: \n",
    "* Grayscale Image: The returned array has shape ___(height, width)___.\n",
    "* Color Image (RGB): The returned array has shape ___(height, width, 3)___, where the third dimension represents the RGB color channels.\n",
    "* Color Image (RGBA): The returned array has shape ___(height, width, 4)___, where the third dimension represents the RGBA color channels.\n",
    "\n",
    "For V3: \n",
    "* Single Frame Image (Grayscale or RGB): Similar to v2, the shape is typically ___(height, width)___ for grayscale and ___(height, width, 3)___ for RGB.\n",
    "* Multiframe Image (e.g., GIF): The returned array might include an additional dimension representing frames. For example, a GIF with multiple frames would have a shape like ___(num_frames, height, width, channels)___"
   ]
  },
  {
   "cell_type": "code",
   "execution_count": null,
   "metadata": {},
   "outputs": [],
   "source": [
    "# get web image, imread() also takes a file name with local path\n",
    "img = imread('https://media.idownloadblog.com/wp-content/uploads/2016/11/Animated-GIF-Banana.gif')\n",
    "print(img.shape)\n",
    "\n",
    "# imageio.v3 creates a multi-frame array of the animated gif, the first\n",
    "# dimension is the frames. \n",
    "# so, change the index number from 0 to 7 to see different frames of the gif image\n",
    "for i in range(img.shape[0]):\n",
    "    img_i = img[i]\n",
    "    # print(str(i), img.shape)\n",
    "\n",
    "    plt.figure(figsize=(5,3))\n",
    "    plt.imshow(img_i)\n",
    "plt.show()"
   ]
  },
  {
   "cell_type": "markdown",
   "metadata": {},
   "source": [
    "### Histogram - `plt.hist()`"
   ]
  },
  {
   "cell_type": "markdown",
   "metadata": {},
   "source": [
    "See [reference manual](https://matplotlib.org/stable/api/_as_gen/matplotlib.pyplot.hist.html?form=MG0AV3)"
   ]
  },
  {
   "cell_type": "code",
   "execution_count": null,
   "metadata": {},
   "outputs": [],
   "source": [
    "# continue from previous image array\n",
    "\n",
    "## using \"log=True\" to make the graph visually event\n",
    "n,bins,patches = plt.hist(img[0].flatten(), bins='scott', log=True)"
   ]
  },
  {
   "cell_type": "markdown",
   "metadata": {},
   "source": [
    "## Display Image in Gray Scale"
   ]
  },
  {
   "cell_type": "markdown",
   "metadata": {},
   "source": [
    "Since we used imageio.v3 in this exercise, the `img` array has 4 dimensions where the first dimension represents the 'frames' of animated image - this is specific to the web image that we selected. \n",
    "\n",
    "When using `cmap='gray'`, `plt.imshow()` expects a 2D array for grayscale images. If the image array is still colorful, it means `img[0]` is likely a 3D array `(height, width, and color channels)`.\n",
    "\n",
    "So the following code will work properly (show a grayscale image) with imageio.v2 but not v3 (still color image)."
   ]
  },
  {
   "cell_type": "code",
   "execution_count": null,
   "metadata": {},
   "outputs": [],
   "source": [
    "# continue from previous image array\n",
    "\n",
    "## using \"log=True\" to make the graph visually event\n",
    "## Note the 'cmap' argument\n",
    "plt.imshow(img[0], cmap='gray')\n",
    "# plt.axis('off')\n",
    "plt.show()"
   ]
  },
  {
   "cell_type": "markdown",
   "metadata": {},
   "source": [
    "To convert an array of a color image to grayscale properly, you need to ensure the array is compressed to 2D:\n",
    "\n",
    "1. Check the Shape of the Image\n",
    "2. Convert the image to grayscale: \n",
    "\n",
    "    1. You can use libraries like OpenCV\n",
    "    1. You can simply average the color channels"
   ]
  },
  {
   "cell_type": "markdown",
   "metadata": {},
   "source": [
    "### Convert image to grayscale using OpenCV"
   ]
  },
  {
   "cell_type": "markdown",
   "metadata": {},
   "source": [
    "```python\n",
    "import cv2\n",
    "import matplotlib.pyplot as plt\n",
    "import imageio.v2 as imageio\n",
    "\n",
    "# Read the image\n",
    "img = imageio.imread('path_to_image.jpg')\n",
    "\n",
    "# Convert the first frame of the image to grayscale\n",
    "gray_img = cv2.cvtColor(img[0], cv2.COLOR_RGB2GRAY)\n",
    "\n",
    "# Plot the image\n",
    "plt.imshow(gray_img, cmap='gray')\n",
    "plt.title('Grayscale Image')\n",
    "plt.show()\n",
    "```"
   ]
  },
  {
   "cell_type": "markdown",
   "metadata": {},
   "source": [
    "### Averaging the RGB channels to create a grayscale image"
   ]
  },
  {
   "cell_type": "markdown",
   "metadata": {},
   "source": [
    "\n",
    "In the following code, axis=2 tells np.mean() to collapse along the 3rd dimension of the image data (an array of `(height, width, rgb)`), and create a 2D array by averaging the 2D arrays of all RGB channels (i.e. `(height, width, 0)`, `(height, width, 1)`, and `(height, width, 2)`): \n",
    "```python\n",
    "    (height, width)\n",
    "```"
   ]
  },
  {
   "cell_type": "code",
   "execution_count": null,
   "metadata": {},
   "outputs": [],
   "source": [
    "# Convert to grayscale by averaging the color channels\n",
    "gray_img = np.mean(img[0], axis=2)\n",
    "print (\"Image shape: \", gray_img.shape)\n",
    "\n",
    "# Plot the image\n",
    "plt.imshow(gray_img, cmap='gray')\n",
    "plt.title('Grayscale Image')\n",
    "plt.show()\n"
   ]
  },
  {
   "cell_type": "markdown",
   "metadata": {},
   "source": [
    "### Clipping Images (effectively exaggerates the contrast)"
   ]
  },
  {
   "cell_type": "markdown",
   "metadata": {},
   "source": [
    "THe following code clips out a large portion of dark areas and makes them even darker."
   ]
  },
  {
   "cell_type": "code",
   "execution_count": null,
   "metadata": {},
   "outputs": [],
   "source": [
    "# Plot the image from previous section\n",
    "plt.imshow(gray_img, cmap='gray', vmax=250, vmin=100)\n",
    "plt.title('Grayscale Image')\n",
    "plt.show()"
   ]
  },
  {
   "cell_type": "markdown",
   "metadata": {},
   "source": [
    "## Export Images Generated in Jupyter Notebook"
   ]
  },
  {
   "cell_type": "markdown",
   "metadata": {},
   "source": [
    "Quite often we need to export or save graphs that we generate from plotting. However, the default may not be satisfactory because the image is usually in GIF, JPG, or PNG formats. They don't look nice when zoomed. \n",
    "\n",
    "To overcome this, we can force Jupyter notebook to use SVG format that zooms perfectly well. "
   ]
  },
  {
   "cell_type": "code",
   "execution_count": null,
   "metadata": {},
   "outputs": [],
   "source": [
    "from IPython import display\n",
    "from matplotlib_inline import backend_inline \n",
    "backend_inline.set_matplotlib_formats('svg')\n",
    "\n",
    "# now redraw the color image from earlier section\n",
    "plt.figure(figsize=(5,3))\n",
    "plt.imshow(img[0])\n",
    "plt.show()"
   ]
  },
  {
   "cell_type": "markdown",
   "metadata": {},
   "source": [
    "Compare this SVG image and the color images created earlier, the axises and the units on the scales clearly show the difference after zooming in. \n",
    "\n",
    "In vscode, you can hover the mouse over the image and the tool buttons will appear: Expand and Save. Expand allows you to view within the IDE; Save allows you to save to the disk. "
   ]
  }
 ],
 "metadata": {
  "kernelspec": {
   "display_name": ".venv",
   "language": "python",
   "name": "python3"
  },
  "language_info": {
   "codemirror_mode": {
    "name": "ipython",
    "version": 3
   },
   "file_extension": ".py",
   "mimetype": "text/x-python",
   "name": "python",
   "nbconvert_exporter": "python",
   "pygments_lexer": "ipython3",
   "version": "3.12.3"
  }
 },
 "nbformat": 4,
 "nbformat_minor": 2
}
