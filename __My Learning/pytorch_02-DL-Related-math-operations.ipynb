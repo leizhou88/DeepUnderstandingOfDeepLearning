{
 "cells": [
  {
   "cell_type": "markdown",
   "metadata": {},
   "source": [
    "# Math Operations in `numpy` and `PyTorch` Related to Deep Learning"
   ]
  },
  {
   "cell_type": "code",
   "execution_count": 2,
   "metadata": {},
   "outputs": [
    {
     "ename": "ModuleNotFoundError",
     "evalue": "No module named 'torch'",
     "output_type": "error",
     "traceback": [
      "\u001b[1;31m---------------------------------------------------------------------------\u001b[0m",
      "\u001b[1;31mModuleNotFoundError\u001b[0m                       Traceback (most recent call last)",
      "Cell \u001b[1;32mIn[2], line 2\u001b[0m\n\u001b[0;32m      1\u001b[0m \u001b[38;5;28;01mimport\u001b[39;00m \u001b[38;5;21;01mnumpy\u001b[39;00m \u001b[38;5;28;01mas\u001b[39;00m \u001b[38;5;21;01mnp\u001b[39;00m\n\u001b[1;32m----> 2\u001b[0m \u001b[38;5;28;01mimport\u001b[39;00m \u001b[38;5;21;01mtorch\u001b[39;00m\n\u001b[0;32m      3\u001b[0m \u001b[38;5;28;01mimport\u001b[39;00m \u001b[38;5;21;01mtorch\u001b[39;00m\u001b[38;5;21;01m.\u001b[39;00m\u001b[38;5;21;01mnn\u001b[39;00m \u001b[38;5;28;01mas\u001b[39;00m \u001b[38;5;21;01mnn\u001b[39;00m\n\u001b[0;32m      4\u001b[0m \u001b[38;5;28;01mimport\u001b[39;00m \u001b[38;5;21;01mmatplotlib\u001b[39;00m\u001b[38;5;21;01m.\u001b[39;00m\u001b[38;5;21;01mpyplot\u001b[39;00m \u001b[38;5;28;01mas\u001b[39;00m \u001b[38;5;21;01mplt\u001b[39;00m\n",
      "\u001b[1;31mModuleNotFoundError\u001b[0m: No module named 'torch'"
     ]
    }
   ],
   "source": [
    "import numpy as np\n",
    "import torch\n",
    "import torch.nn as nn\n",
    "import matplotlib.pyplot as plt"
   ]
  },
  {
   "cell_type": "markdown",
   "metadata": {},
   "source": [
    "## Vector and Matrix Tranpose "
   ]
  },
  {
   "cell_type": "markdown",
   "metadata": {},
   "source": [
    "### Transpose Using Numpy"
   ]
  },
  {
   "cell_type": "markdown",
   "metadata": {},
   "source": [
    "In NumPy, the transpose function is used to change the axes of an array. However, transposing a 1-dimensional array (vector) like [1, 2, 3, 4] doesn't change its shape. "
   ]
  },
  {
   "cell_type": "code",
   "execution_count": 2,
   "metadata": {},
   "outputs": [
    {
     "name": "stdout",
     "output_type": "stream",
     "text": [
      "[1 2 3 4]\n",
      " \n",
      "[1 2 3 4]\n",
      " \n"
     ]
    },
    {
     "data": {
      "text/plain": [
       "(None, None)"
      ]
     },
     "execution_count": 2,
     "metadata": {},
     "output_type": "execute_result"
    }
   ],
   "source": [
    "# create a vector\n",
    "vector = np.array([1,2,3,4])\n",
    "print(vector), print(' ')\n",
    "\n",
    "# transpose it\n",
    "print(vector.T), print(' ')"
   ]
  },
  {
   "cell_type": "markdown",
   "metadata": {},
   "source": [
    "The transpose function is more meaningful when applied to multi-dimensional arrays."
   ]
  },
  {
   "cell_type": "code",
   "execution_count": 3,
   "metadata": {},
   "outputs": [
    {
     "name": "stdout",
     "output_type": "stream",
     "text": [
      "[[1 2 3 4]\n",
      " [5 6 7 8]]\n",
      " \n",
      "[[1 5]\n",
      " [2 6]\n",
      " [3 7]\n",
      " [4 8]]\n",
      " \n",
      "[[1 2 3 4]\n",
      " [5 6 7 8]]\n",
      " \n"
     ]
    },
    {
     "data": {
      "text/plain": [
       "(None, None)"
      ]
     },
     "execution_count": 3,
     "metadata": {},
     "output_type": "execute_result"
    }
   ],
   "source": [
    "# create a vector\n",
    "vector = np.array(\n",
    "    [ [1,2,3,4], \n",
    "      [5, 6, 7, 8] ])\n",
    "print(vector), print(' ')\n",
    "\n",
    "# transpose it\n",
    "print(vector.T), print(' ')\n",
    "\n",
    "# transpose the transpose\n",
    "print(vector.T.T), print(' ')"
   ]
  },
  {
   "cell_type": "markdown",
   "metadata": {},
   "source": [
    "### Transpose Using PyTorch"
   ]
  },
  {
   "cell_type": "code",
   "execution_count": 4,
   "metadata": {},
   "outputs": [
    {
     "name": "stdout",
     "output_type": "stream",
     "text": [
      "tensor([[1, 2, 3, 4],\n",
      "        [4, 5, 6, 7]])\n",
      " \n",
      "tensor([[1, 4],\n",
      "        [2, 5],\n",
      "        [3, 6],\n",
      "        [4, 7]])\n",
      " \n",
      "tensor([[1, 2, 3, 4],\n",
      "        [4, 5, 6, 7]])\n",
      " \n"
     ]
    },
    {
     "data": {
      "text/plain": [
       "(None, None)"
      ]
     },
     "execution_count": 4,
     "metadata": {},
     "output_type": "execute_result"
    }
   ],
   "source": [
    "# create a vector\n",
    "tv = torch.tensor(\n",
    "    [[1,2,3,4],\n",
    "     [4,5,6,7]]\n",
    ")\n",
    "print(tv), print(' ')\n",
    "\n",
    "# transpose the tensor\n",
    "print(tv.T), print(' ')\n",
    "\n",
    "# transpose the transpose\n",
    "print(tv.T.T), print(' ')"
   ]
  },
  {
   "cell_type": "markdown",
   "metadata": {},
   "source": [
    "## Dot Product"
   ]
  },
  {
   "cell_type": "markdown",
   "metadata": {},
   "source": [
    "The dot product (also known as the scalar product) is an algebraic operation that takes two ___equal-length___ sequences of numbers (usually vectors) and returns a single number. The dot product is defined as the sum of the products of the corresponding entries of the two sequences of numbers.\n",
    "\n",
    "___Important___:\n",
    "\n",
    "* _Dot product can also be calculated for two ___equal-sized___ matracis._\n",
    "* _Another way to look at dot product may be it produces a single number that reflects the commonalities between two objects (vectors, matrices, tensors, signals, images etc.)_"
   ]
  },
  {
   "cell_type": "markdown",
   "metadata": {},
   "source": [
    "#### Definition"
   ]
  },
  {
   "cell_type": "markdown",
   "metadata": {},
   "source": [
    "For two vectors `a` and `b` in n-dimensional space:\n",
    "\n",
    "$$\n",
    "ab = \\sum_{i=1}^n a_i \\cdot b_i = a_1 \\cdot b_1 + a_2 \\cdot b_2 + ... + a_n \\cdot b_n\n",
    "$$  \n",
    "\n",
    "where $ a = (a_1, a_2, ..., a_n)$ and $b = (b_1, b_2, ..., b_n) $"
   ]
  },
  {
   "cell_type": "markdown",
   "metadata": {},
   "source": [
    "Other ways to denote a dot product may include: $ <a, b> $ , $ a^{\\text{T}}b $"
   ]
  },
  {
   "cell_type": "markdown",
   "metadata": {},
   "source": [
    "#### Geometric Interpretation"
   ]
  },
  {
   "cell_type": "markdown",
   "metadata": {},
   "source": [
    "The dot product also has a geometric interpretation. It is related to the cosine of the angle between the two vectors:\n",
    "$$\n",
    "ab = ||a|| ||b|| cos( \\theta )\n",
    "$$\n",
    "\n",
    "where a and b are the magnitudes (lengths) of vectors a and b, respectively, and &theta; is the angle between the two vectors."
   ]
  },
  {
   "cell_type": "markdown",
   "metadata": {},
   "source": [
    "### Applications of Dot Products"
   ]
  },
  {
   "cell_type": "markdown",
   "metadata": {},
   "source": [
    "Dot product is the computational backbone of many operations. Just to list a few:\n",
    "\n",
    "* **Statistics**: correlation, least-squares, entropy, PCA\n",
    "* **Signal Processing**: Fourier transform, filtering\n",
    "* **Science**: Geometry, physics, mechanics\n",
    "* **Linear Algebra**: projection, transformations, multiplication\n",
    "* **Deep Learning**: convolution, matrix multiplication, Gram matrix (used in style transfer)"
   ]
  },
  {
   "cell_type": "markdown",
   "metadata": {},
   "source": [
    "### Numpy operations for Dot Product"
   ]
  },
  {
   "cell_type": "code",
   "execution_count": 5,
   "metadata": {},
   "outputs": [
    {
     "name": "stdout",
     "output_type": "stream",
     "text": [
      "-2\n",
      "-2\n"
     ]
    }
   ],
   "source": [
    "nv1 = np.array([1,2,3,4])\n",
    "nv2 = np.array([0,1,0,-1])\n",
    "\n",
    "# dot product function\n",
    "print (np.dot(nv1, nv2))\n",
    "\n",
    "# dot product via computation\n",
    "print (np.sum( nv1 * nv2 ))"
   ]
  },
  {
   "cell_type": "markdown",
   "metadata": {},
   "source": [
    "### Pytorch operations for Doc Product"
   ]
  },
  {
   "cell_type": "code",
   "execution_count": 4,
   "metadata": {},
   "outputs": [
    {
     "name": "stdout",
     "output_type": "stream",
     "text": [
      "tensor(-2)\n",
      "tensor(-2)\n"
     ]
    }
   ],
   "source": [
    "tv1 = torch.tensor([1,2,3,4])\n",
    "tv2 = torch.tensor([0,1,0,-1])\n",
    "\n",
    "# dot product via function\n",
    "print(torch.dot(tv1, tv2))\n",
    "\n",
    "# dot product via computation\n",
    "print(torch.sum( tv1 * tv2 ))"
   ]
  },
  {
   "cell_type": "markdown",
   "metadata": {},
   "source": [
    "___Note that Pytorch produces 2 one-element `tensor` objects while Numpy produces 2 scalars.___"
   ]
  },
  {
   "cell_type": "markdown",
   "metadata": {},
   "source": [
    "#### Test If CUDA support Is Available"
   ]
  },
  {
   "cell_type": "code",
   "execution_count": 8,
   "metadata": {},
   "outputs": [
    {
     "data": {
      "text/plain": [
       "True"
      ]
     },
     "execution_count": 8,
     "metadata": {},
     "output_type": "execute_result"
    }
   ],
   "source": [
    "torch.cuda.is_available()"
   ]
  },
  {
   "cell_type": "markdown",
   "metadata": {},
   "source": [
    "## Matrix Multiplication"
   ]
  },
  {
   "cell_type": "markdown",
   "metadata": {},
   "source": [
    "Key concepts: \n",
    "1. How to refer to matrix sizes\n",
    "1. The rule of matrix multiplication validity\n",
    "1. One of ways to conceptualize and implement matrix multilication."
   ]
  },
  {
   "cell_type": "markdown",
   "metadata": {},
   "source": [
    "### Size of Matrices"
   ]
  },
  {
   "cell_type": "markdown",
   "metadata": {},
   "source": [
    "Matrix size can be expressed as `(m, n)`, where m is the number of rows, and n is the number of columns. "
   ]
  },
  {
   "cell_type": "markdown",
   "metadata": {},
   "source": [
    "### The Rules of Validity for Matrices Multiplication"
   ]
  },
  {
   "cell_type": "markdown",
   "metadata": {},
   "source": [
    "When two matrices are to be multiplied, say matrix 1 is of $(m, n)$ and the matrix 2 is of size $(x, y)$, then $n$ must equal to $x$ (the inner dimensions must be equal). \n",
    "\n",
    "* Valid:  $ M1(m, n) \\times M2(n, t) \\\\ $\n",
    "* Invalid: $ M1(m, n) \\times M2(t, m) \\\\ $\n",
    "* Invalid:  $ M1(m, n) \\times M2(x, y) $ where $ n \\not= x $"
   ]
  },
  {
   "cell_type": "markdown",
   "metadata": {},
   "source": [
    "Two matrices multiplication yields in a matrix with the size of the first matrix's number of rows by the second matrix's number of columns: \n",
    "$$\n",
    "\\big[ m, n \\big] \\times \\bigg[ n, k \\bigg] = \\big[ m, k \\big]\n",
    "$$"
   ]
  },
  {
   "cell_type": "markdown",
   "metadata": {},
   "source": [
    "### Numpy for Matrices Multiplication "
   ]
  },
  {
   "cell_type": "code",
   "execution_count": 14,
   "metadata": {},
   "outputs": [
    {
     "name": "stdout",
     "output_type": "stream",
     "text": [
      "[[-0.6  -0.04 -0.05 -0.74]\n",
      " [ 1.13 -0.26 -1.93 -0.49]\n",
      " [-0.78  1.14 -0.62  2.71]]\n",
      " \n",
      "[[-1.01  0.05 -0.06 -0.69  1.32]\n",
      " [ 1.34  1.69  0.14  2.22 -1.8 ]\n",
      " [ 1.68  1.14 -0.01 -0.2   0.96]\n",
      " [ 1.75  0.59  1.61  0.18 -1.02]]\n",
      " \n",
      "results\n",
      "[[-0.83 -0.59 -1.16  0.2  -0.01]\n",
      " [-5.59 -2.87 -0.87 -1.06  0.61]\n",
      " [ 6.02  2.78  4.58  3.68 -6.44]]\n",
      " \n",
      "[[-0.83 -0.59 -1.16  0.2  -0.01]\n",
      " [-5.59 -2.87 -0.87 -1.06  0.61]\n",
      " [ 6.02  2.78  4.58  3.68 -6.44]]\n"
     ]
    },
    {
     "data": {
      "text/plain": [
       "(None, None)"
      ]
     },
     "execution_count": 14,
     "metadata": {},
     "output_type": "execute_result"
    }
   ],
   "source": [
    "A = np.round(np.random.randn(3,4), 2)\n",
    "B = np.round(np.random.randn(4,5), 2)\n",
    "C = np.round(np.random.randn(3,7), 2)\n",
    "\n",
    "print(A), print(' ')\n",
    "print(B), print(' ')\n",
    "\n",
    "# \"@\": Python's matrix multiplication \n",
    "print('results'), print(np.round( A@B, 2))\n",
    "\n",
    "# np.matmul(A,B) is equivalent to Python's A@B\n",
    "print(' '), print(np.round(np.matmul(A, B), 2))  "
   ]
  },
  {
   "cell_type": "markdown",
   "metadata": {},
   "source": [
    "## Softmax\n",
    "\n",
    "Softmax is a mathematical function often used in machine learning, particularly in classification problems. It converts a vector of numbers into a probability distribution. Essentially, it helps determine the probability that a given input belongs to each class."
   ]
  },
  {
   "cell_type": "markdown",
   "metadata": {},
   "source": [
    "### How It Works"
   ]
  },
  {
   "cell_type": "markdown",
   "metadata": {},
   "source": [
    "The softmax function takes as input a vector of scores (raw values), and outputs a probability distribution. Mathematically, it's defined as:\n",
    "\n",
    "Given the vector of scores $x = \\{1, 2, 3\\}$, where:\n",
    "* $x_i$ is the score for class $i$\n",
    "* $n$ is the number of classes\n",
    "* $e$ is the base of the natural logarithm\n",
    "\n",
    "then the softmax of class $i$ that having score $x_i$, can be represented by:\n",
    "\n",
    "$$\n",
    "\\sigma_i = \\frac{e^{x_i}}{\\sum_{j=1}^{n} e^{x_j}} \\\\\n",
    "$$\n",
    "\n",
    "This basically says that, the probability of score value $x_i$ appearing in class $i$ is $\\sigma_i$"
   ]
  },
  {
   "cell_type": "markdown",
   "metadata": {},
   "source": [
    "### What is Softmax Used For?"
   ]
  },
  {
   "cell_type": "markdown",
   "metadata": {},
   "source": [
    "1. **Multi-Class Classification**: In neural networks, softmax is commonly used in the output layer when dealing with multi-class classification tasks. It transforms the raw output scores of the neural network into probabilities that sum to $1$. Each probability represents the likelihood that the input belongs to a specific class.\n",
    "\n",
    "1. **Logistic Regression**: Softmax is used in the logistic regression for multi-class classification problems. It extends the binary logistic regression to handle multiple classes.\n",
    "\n",
    "1. **Reinforcement Learning**: In reinforcement learning, softmax can be used in action selection policies, where it helps determine the probability of selecting each action based on their respective action-value estimates.\n",
    "\n",
    "1. **Natural Language Processing (NLP)**: Softmax is used in NLP tasks like language modeling and machine translation. In these models, softmax is used to predict the next word in a sequence, converting logits into word probabilities."
   ]
  },
  {
   "cell_type": "markdown",
   "metadata": {},
   "source": [
    "In a neural network designed to classify images of handwritten digits (like the MNIST dataset), the final layer might use the softmax function to output a probability distribution over the ten possible digit classes (0 through 9). The class with the highest probability is taken as the network's prediction.\n",
    "\n",
    "The softmax function is essential because it provides a clear and interpretable way to represent uncertainty in model predictions, making it a fundamental component of many machine learning models."
   ]
  },
  {
   "cell_type": "markdown",
   "metadata": {},
   "source": [
    "### Python Computation - Numpy"
   ]
  },
  {
   "cell_type": "code",
   "execution_count": 38,
   "metadata": {},
   "outputs": [
    {
     "name": "stdout",
     "output_type": "stream",
     "text": [
      "x= [-10  12  -4  -4 -15  -4 -13  12  11  -4   7  -8   9  -4  -8   9   4  -5\n",
      "   2   2 -10  -9   6 -14 -11  -5  -1   8   5  -7   6]\n",
      "numerator= [4.53999298e-05 1.62754791e+05 1.83156389e-02 1.83156389e-02\n",
      " 3.05902321e-07 1.83156389e-02 2.26032941e-06 1.62754791e+05\n",
      " 5.98741417e+04 1.83156389e-02 1.09663316e+03 3.35462628e-04\n",
      " 8.10308393e+03 1.83156389e-02 3.35462628e-04 8.10308393e+03\n",
      " 5.45981500e+01 6.73794700e-03 7.38905610e+00 7.38905610e+00\n",
      " 4.53999298e-05 1.23409804e-04 4.03428793e+02 8.31528719e-07\n",
      " 1.67017008e-05 6.73794700e-03 3.67879441e-01 2.98095799e+03\n",
      " 1.48413159e+02 9.11881966e-04 4.03428793e+02]  \n",
      "denominator= 406692.6053127916\n",
      "sigma= [1.11632051e-10 4.00191175e-01 4.50355838e-08 4.50355838e-08\n",
      " 7.52170845e-13 4.50355838e-08 5.55783257e-12 4.00191175e-01\n",
      " 1.47222106e-01 4.50355838e-08 2.69646692e-03 8.24855489e-10\n",
      " 1.99243454e-02 4.50355838e-08 8.24855489e-10 1.99243454e-02\n",
      " 1.34249183e-04 1.65676654e-08 1.81686512e-05 1.81686512e-05\n",
      " 1.11632051e-10 3.03447376e-10 9.91974745e-04 2.04461234e-12\n",
      " 4.10671366e-11 1.65676654e-08 9.04563880e-07 7.32975704e-03\n",
      " 3.64927115e-04 2.24218969e-09 9.91974745e-04]\n",
      "sum(sigma)= 1.0\n"
     ]
    },
    {
     "data": {
      "image/png": "[encoded data removed]",
      "text/plain": [
       "<Figure size 640x480 with 1 Axes>"
      ]
     },
     "metadata": {},
     "output_type": "display_data"
    }
   ],
   "source": [
    "x = np.random.randint(-15, high=15, size=31)\n",
    "print(\"x=\", x)\n",
    "\n",
    "numerator = np.exp(x)\n",
    "denominator = np.sum(numerator)\n",
    "print(\"numerator=\", numerator, ' \\ndenominator=', denominator)\n",
    "\n",
    "sigma = numerator/denominator\n",
    "\n",
    "print(\"sigma=\", sigma) \n",
    "print(\"sum(sigma)=\", np.sum(sigma))\n",
    "\n",
    "plt.plot(x, sigma, \"ro\")\n",
    "plt.xlabel(\"Original number (x)\")\n",
    "plt.ylabel(\"Softmax $\\\\sigma$\")\n",
    "\n",
    "# play with yscale to see differences: \n",
    "# plt.yscale(\"log\")\n",
    "\n",
    "plt.title( \"$\\\\sum\\\\sigma =$ %g\" %np.sum(sigma))\n",
    "plt.show()"
   ]
  },
  {
   "cell_type": "markdown",
   "metadata": {},
   "source": [
    "### Python Computation - PyTorch"
   ]
  },
  {
   "cell_type": "code",
   "execution_count": 49,
   "metadata": {},
   "outputs": [
    {
     "name": "stdout",
     "output_type": "stream",
     "text": [
      "tensor([1.1163e-10, 4.0019e-01, 4.5036e-08, 4.5036e-08, 7.5217e-13, 4.5036e-08,\n",
      "        5.5578e-12, 4.0019e-01, 1.4722e-01, 4.5036e-08, 2.6965e-03, 8.2486e-10,\n",
      "        1.9924e-02, 4.5036e-08, 8.2486e-10, 1.9924e-02, 1.3425e-04, 1.6568e-08,\n",
      "        1.8169e-05, 1.8169e-05, 1.1163e-10, 3.0345e-10, 9.9197e-04, 2.0446e-12,\n",
      "        4.1067e-11, 1.6568e-08, 9.0456e-07, 7.3298e-03, 3.6493e-04, 2.2422e-09,\n",
      "        9.9197e-04])\n"
     ]
    },
    {
     "data": {
      "image/png": "[encoded data removed]",
      "text/plain": [
       "<Figure size 640x480 with 1 Axes>"
      ]
     },
     "metadata": {},
     "output_type": "display_data"
    }
   ],
   "source": [
    "# more work using Pytorch than Numpy\n",
    "\n",
    "# Create an instance of softmax activation class\n",
    "softmax = nn.Softmax(dim=0)\n",
    "\n",
    "# apply the data to the function\n",
    "sigmaT = softmax(torch.Tensor(x))\n",
    "print(sigmaT)\n",
    "\n",
    "plt.plot(sigma, sigmaT, \"ro\")\n",
    "plt.xlabel(\"Softmax using Numpy\")\n",
    "plt.ylabel(\"Softmax using Pytorch nn.Softmax()\")\n",
    "plt.title( f\"The two methods correlate at r={np.corrcoef(sigma, sigmaT)[0,1]}\")\n",
    "plt.show()"
   ]
  }
 ],
 "metadata": {
  "kernelspec": {
   "display_name": ".venv",
   "language": "python",
   "name": "python3"
  },
  "language_info": {
   "codemirror_mode": {
    "name": "ipython",
    "version": 3
   },
   "file_extension": ".py",
   "mimetype": "text/x-python",
   "name": "python",
   "nbconvert_exporter": "python",
   "pygments_lexer": "ipython3",
   "version": "3.12.3"
  }
 },
 "nbformat": 4,
 "nbformat_minor": 2
}
