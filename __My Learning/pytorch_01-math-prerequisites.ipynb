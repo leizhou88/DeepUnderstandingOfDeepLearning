{
 "cells": [
  {
   "cell_type": "markdown",
   "metadata": {},
   "source": [
    "# Math Prerequisites for Deep Learning"
   ]
  },
  {
   "cell_type": "markdown",
   "metadata": {},
   "source": [
    "## Linear Algebra Terminology"
   ]
  },
  {
   "cell_type": "markdown",
   "metadata": {},
   "source": [
    "### Scalar"
   ]
  },
  {
   "cell_type": "markdown",
   "metadata": {},
   "source": [
    "Scalar has no sense of dimension. "
   ]
  },
  {
   "cell_type": "markdown",
   "metadata": {},
   "source": [
    "A **scalar** can be thought of in different contexts, but generally, it refers to a single value and is often used in contrast to more complex structures like vectors, matrices, or tensors. Here are some common contexts in which the term \"scalar\" is used:\n"
   ]
  },
  {
   "cell_type": "markdown",
   "metadata": {},
   "source": [
    "\n",
    "#### In Mathematics:"
   ]
  },
  {
   "cell_type": "markdown",
   "metadata": {},
   "source": [
    "- A **scalar** is a single numerical value. It can be any real number, complex number, etc.\n",
    "- It represents magnitude without direction (unlike vectors, which have both magnitude and direction)."
   ]
  },
  {
   "cell_type": "markdown",
   "metadata": {},
   "source": [
    "\n",
    "#### In Programming:"
   ]
  },
  {
   "cell_type": "markdown",
   "metadata": {},
   "source": [
    "- A **scalar** typically refers to a single value of a basic data type (such as integer, float, boolean, etc.) as opposed to collections like arrays, lists, or more complex structures like objects.\n",
    "- In Python, for example, a scalar could be an `int`, `float`, `bool`, or `str`.\n"
   ]
  },
  {
   "cell_type": "markdown",
   "metadata": {},
   "source": [
    "\n",
    "#### In Machine Learning and Deep Learning:\n",
    "- In libraries like NumPy, TensorFlow, and PyTorch, a **scalar** is a 0-dimensional tensor.\n",
    "  - **NumPy example:**\n",
    "  \n"
   ]
  },
  {
   "cell_type": "code",
   "execution_count": 1,
   "metadata": {},
   "outputs": [
    {
     "name": "stdout",
     "output_type": "stream",
     "text": [
      "0\n",
      "5\n"
     ]
    }
   ],
   "source": [
    "import numpy as np\n",
    "scalar = np.array(5)\n",
    "print(scalar.ndim)  # Output: 0\n",
    "print (scalar)"
   ]
  },
  {
   "cell_type": "code",
   "execution_count": 3,
   "metadata": {},
   "outputs": [
    {
     "name": "stdout",
     "output_type": "stream",
     "text": [
      "0\n",
      "tensor(5)\n"
     ]
    }
   ],
   "source": [
    "import torch\n",
    "scalar = torch.tensor(5)\n",
    "print(scalar.dim())  # Output: 0\n",
    "print(scalar)"
   ]
  },
  {
   "cell_type": "markdown",
   "metadata": {},
   "source": [
    "Scalars are fundamental building blocks in many fields and are used in various ways depending on the context. "
   ]
  },
  {
   "cell_type": "markdown",
   "metadata": {},
   "source": [
    "### Vector"
   ]
  },
  {
   "cell_type": "markdown",
   "metadata": {},
   "source": [
    "Vector has only one and only one dimension."
   ]
  },
  {
   "cell_type": "markdown",
   "metadata": {},
   "source": [
    "\n",
    "#### In linear algebra"
   ]
  },
  {
   "cell_type": "markdown",
   "metadata": {},
   "source": [
    "A vector is a geometric entity that has both magnitude and direction. It is typically represented as an ordered list of numbers, which can be visualized as a directed line segment from the origin to a point in space.\n",
    "A vector can be a \"column vector\" or a \"row vector\". "
   ]
  },
  {
   "cell_type": "markdown",
   "metadata": {},
   "source": [
    "#### In Machine Learning and Deep Learning"
   ]
  },
  {
   "cell_type": "markdown",
   "metadata": {},
   "source": [
    "In machine learning (ML) and deep learning (DL), a vector is often used to represent data, features, or weights. Vectors are fundamental for various computations and transformations in these fields. They are utilized to encode information in a format that can be processed by algorithms."
   ]
  },
  {
   "cell_type": "markdown",
   "metadata": {},
   "source": [
    "### Matrix"
   ]
  },
  {
   "cell_type": "markdown",
   "metadata": {},
   "source": [
    "#### In Linear Algebra"
   ]
  },
  {
   "cell_type": "markdown",
   "metadata": {},
   "source": [
    "A matrix is a rectangular array of numbers arranged in rows and columns.\n",
    "\n",
    "Notation: Usually denoted by uppercase letters (e.g., 𝐴, 𝐵, or 𝐶)."
   ]
  },
  {
   "cell_type": "markdown",
   "metadata": {},
   "source": [
    "#### In ML/DL"
   ]
  },
  {
   "cell_type": "markdown",
   "metadata": {},
   "source": [
    "A matrix in ML/DL is similar in structure but often represents data, features, weights, or activations within neural networks.\n",
    "\n",
    "**Uses**:\n",
    "\n",
    "* Data Representation: _Rows represent samples_, and _columns represent features_.\n",
    "\n",
    "* Weight Matrices: Weights of connections between layers in neural networks are stored in matrices.\n",
    "\n",
    "* Input and Output: Matrices are used for input data, intermediate activations, and output predictions.\n",
    "\n",
    "* Batch Processing: In deep learning, processing multiple samples (batch) simultaneously is common, often represented by matrices."
   ]
  },
  {
   "cell_type": "markdown",
   "metadata": {},
   "source": [
    "#### Images"
   ]
  },
  {
   "cell_type": "markdown",
   "metadata": {},
   "source": [
    "In Image recognition and processing, grayscale images are represented by matrix. Each cell in the matrix represents a single pixel and the value represents the brightness of the pixel. \n",
    "\n",
    "A color image can be represented by a 3D tensor, where each of the three dimensions corresponds to a different aspect of the image:\n",
    "\n",
    "* Height (number of rows).\n",
    "* Width (number of columns).\n",
    "* Channels (RGB color channels)\n",
    "\n",
    "For example, a color image that is 256 pixels high and 256 pixels wide, the corresponding 3D tensor would have the shape: `(256, 256, 3)`."
   ]
  },
  {
   "cell_type": "markdown",
   "metadata": {},
   "source": [
    "### Tensor"
   ]
  },
  {
   "cell_type": "markdown",
   "metadata": {},
   "source": [
    "Tensors may have dimension from zero to any number. "
   ]
  },
  {
   "cell_type": "markdown",
   "metadata": {},
   "source": [
    "#### In Linear Algebra"
   ]
  },
  {
   "cell_type": "markdown",
   "metadata": {},
   "source": [
    "**Definition**: \n",
    "In linear algebra, a tensor is a geometric object that generalizes scalars, vectors, and matrices to higher dimensions. A tensor can be thought of as a multi-dimensional array of numerical values.\n",
    "\n",
    "_Notation_: Tensors are usually denoted with uppercase letters (e.g., \n",
    "𝐴, 𝐵, or 𝐶), sometimes with additional indices to specify their dimensions.\n",
    "\n",
    "**Uses**: \n",
    "* coordinate Systems: Tensors are used to describe physical quantities in different coordinate systems.\n",
    "* Tensor Calculus: Tensors are fundamental in differential geometry and the theory of relativity, where they describe the curvature of space-time.\n",
    "\n",
    "**Transformations**: Tensors transform according to specific rules under a change of coordinates, preserving the structure of the physical laws they represent."
   ]
  },
  {
   "cell_type": "markdown",
   "metadata": {},
   "source": [
    "#### In ML/DL"
   ]
  },
  {
   "cell_type": "markdown",
   "metadata": {},
   "source": [
    "**Definition**:\n",
    "\n",
    "In ML/DL, a tensor is a data structure that can represent high-dimensional data. It extends the concept of vectors and matrices to arbitrary dimensions (also called orders).\n",
    "\n",
    "Notation: Tensors are also denoted with uppercase letters (e.g., \n",
    "𝑇, 𝑊), and their dimensions are often referred to as their shape.\n",
    "\n",
    "**Uses**:\n",
    "\n",
    "* Data Representation: Tensors are used to store datasets in various dimensions, such as images (3D tensors: width, height, channels) or sequences of data.\n",
    "* Weights and Activations: In neural networks, tensors represent the weights of connections and the activations (outputs) of neurons in each layer.\n",
    "* Operations: Tensors are manipulated through operations like matrix multiplication, element-wise addition, and non-linear transformations."
   ]
  },
  {
   "cell_type": "markdown",
   "metadata": {},
   "source": [
    "## Disambiguation of Data Types "
   ]
  },
  {
   "cell_type": "markdown",
   "metadata": {},
   "source": [
    "In Computer Science, Data Type refers to the \"format of data storage\", such as integer, floating-point, boolean etc. \n",
    "\n",
    "In Statistics, data type means the \"category of data\". examples are \"categorical, numerical, ordinal, ratio etc. "
   ]
  },
  {
   "cell_type": "markdown",
   "metadata": {},
   "source": [
    "Data Types cross-reference in DL/ML: \n",
    "\n",
    "| #    | Math | Numpy | PyTorch |\n",
    "|------|------|-------|---------|\n",
    "|1|Scalar|Array  |Tensor   |\n",
    "|2|Vector|Array  |Tensor   |\n",
    "|3|Matrix|ND array|Tensor  |\n",
    "|4|Tensor|ND array|Tensor  |\n",
    "\n"
   ]
  },
  {
   "cell_type": "markdown",
   "metadata": {},
   "source": [
    "## Converting Reality to Numbers"
   ]
  },
  {
   "cell_type": "markdown",
   "metadata": {},
   "source": [
    "__Reality__ can be divided into two types: \n",
    "* Continuous reality: numeric, many to infinite distinct values. Examples: height, income, exam scores etc. \n",
    "* Categorical reality: discrete, limited (typically a few) distinct value. Examples: landscape (sea vs. mountain), disease diagnosis, gender etc."
   ]
  },
  {
   "cell_type": "markdown",
   "metadata": {},
   "source": [
    "### Representing Categorical Data"
   ]
  },
  {
   "cell_type": "markdown",
   "metadata": {},
   "source": [
    "#### Dummy-Coding vs. One-Hot Coding"
   ]
  },
  {
   "cell_type": "markdown",
   "metadata": {},
   "source": [
    "**Dummy Coding**: uses single vector to describe one 'feature'. It uses 0/1 or True/False as the values. Example: exam - pass/fail, house - sold/market, fraud detection etc. \n",
    "\n",
    "**One-hot Coding**: uses a matrix to describe multiple features. It uses 0/1 or True/False on each category of the collection. "
   ]
  },
  {
   "cell_type": "markdown",
   "metadata": {},
   "source": [
    "\n",
    "<table>\n",
    "  <thead>\n",
    "    <tr>\n",
    "      <th colspan=\"2\">Dummy Coding</th>\n",
    "      <th colspan=\"4\">One-Hot Coding</th>\n",
    "    </tr>\n",
    "    <tr>\n",
    "      <th>Reality: exam</th>\n",
    "      <th>y (representation)</th>\n",
    "      <th>Reality: Genre</th>\n",
    "      <th>History</th>\n",
    "      <th>Scifi</th>\n",
    "      <th>Kids</th>\n",
    "    </tr>\n",
    "  </thead>\n",
    "  <tbody>\n",
    "    <tr>\n",
    "      <td>Pass</td>\n",
    "      <td>1</td>\n",
    "      <td>y1</td>\n",
    "      <td>0</td>\n",
    "      <td>1</td>\n",
    "      <td>0</td>\n",
    "    </tr>\n",
    "    <tr>\n",
    "      <td>Fail</td>\n",
    "      <td>0</td>\n",
    "      <td>y2</td>\n",
    "      <td>0</td>\n",
    "      <td>0</td>\n",
    "      <td>1</td>\n",
    "    </tr>\n",
    "    <tr>\n",
    "      <td>Fail</td>\n",
    "      <td>0</td>\n",
    "      <td>y3</td>\n",
    "      <td>1</td>\n",
    "      <td>0</td>\n",
    "      <td>0</td>\n",
    "    </tr>\n",
    "    <tr>\n",
    "      <th></th>\n",
    "      <th>A column vector is created to represent the reality:\n",
    "          <br>[0<br> 1<br> 1]\n",
    "      </th>\n",
    "      <th></th>\n",
    "      <th colspan=\"3\">A matrix is used to represent the reality: <br>\n",
    "      [0 1 0<br>\n",
    "       0 0 1<br>\n",
    "       1 0 0]\n",
    "      </th>\n",
    "    </tr>\n",
    "  </tbody>\n",
    "</table>"
   ]
  }
 ],
 "metadata": {
  "kernelspec": {
   "display_name": ".venv",
   "language": "python",
   "name": "python3"
  },
  "language_info": {
   "codemirror_mode": {
    "name": "ipython",
    "version": 3
   },
   "file_extension": ".py",
   "mimetype": "text/x-python",
   "name": "python",
   "nbconvert_exporter": "python",
   "pygments_lexer": "ipython3",
   "version": "3.12.3"
  }
 },
 "nbformat": 4,
 "nbformat_minor": 2
}
