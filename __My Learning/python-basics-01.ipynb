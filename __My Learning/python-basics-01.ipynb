{
 "cells": [
  {
   "cell_type": "markdown",
   "metadata": {},
   "source": [
    "# <a id='toc1_'></a>[Data type, Variables, Assignments and Output Commands](#toc0_)"
   ]
  },
  {
   "cell_type": "markdown",
   "metadata": {},
   "source": [
    "## <a id='toc1_1_'></a>[Assigning Values](#toc0_)\n",
    "To assign values to variables there is no need to declare the variable as long as it is used in local scope only."
   ]
  },
  {
   "cell_type": "code",
   "execution_count": 1,
   "metadata": {},
   "outputs": [
    {
     "data": {
      "text/plain": [
       "('a', 'b')"
      ]
     },
     "execution_count": 1,
     "metadata": {},
     "output_type": "execute_result"
    }
   ],
   "source": [
    "a = \"a\"\n",
    "b = \"b\"\n",
    "a,  b # output to console"
   ]
  },
  {
   "cell_type": "code",
   "execution_count": 2,
   "metadata": {},
   "outputs": [
    {
     "name": "stdout",
     "output_type": "stream",
     "text": [
      "a b\n"
     ]
    }
   ],
   "source": [
    "# multiple assignments to more than one variables\n",
    "a, b = \"a\", \"b\"\n",
    "print (a, b)"
   ]
  },
  {
   "cell_type": "markdown",
   "metadata": {},
   "source": [
    "___Tip:___ if 'print' is not used, the last output will overwrite all previous outputs"
   ]
  },
  {
   "cell_type": "code",
   "execution_count": 3,
   "metadata": {},
   "outputs": [
    {
     "data": {
      "text/plain": [
       "5.0"
      ]
     },
     "execution_count": 3,
     "metadata": {},
     "output_type": "execute_result"
    }
   ],
   "source": [
    "a = 4\n",
    "b = 5.00\n",
    "a\n",
    "b"
   ]
  },
  {
   "cell_type": "markdown",
   "metadata": {},
   "source": [
    "'print' command ensures all outputs are visible in the notebook"
   ]
  },
  {
   "cell_type": "code",
   "execution_count": 4,
   "metadata": {},
   "outputs": [
    {
     "name": "stdout",
     "output_type": "stream",
     "text": [
      "4\n",
      "5.0\n"
     ]
    }
   ],
   "source": [
    "a = 4\n",
    "b = 5.00\n",
    "print(a)   \n",
    "print(b)"
   ]
  },
  {
   "cell_type": "markdown",
   "metadata": {},
   "source": [
    "Inspect data types"
   ]
  },
  {
   "cell_type": "code",
   "execution_count": 5,
   "metadata": {},
   "outputs": [
    {
     "name": "stdout",
     "output_type": "stream",
     "text": [
      "<class 'str'>\n",
      "<class 'float'>\n"
     ]
    }
   ],
   "source": [
    "a = '4'\n",
    "b = 5.00\n",
    "print (type(a))\n",
    "print (type(b))"
   ]
  },
  {
   "cell_type": "markdown",
   "metadata": {},
   "source": [
    "## <a id='toc1_2_'></a>[Imperfect Precisions of Computer Floating Point](#toc0_)\n",
    "Computers use floating point numbers to mimic algebra, however, tiny computer rounding errors occur frequently here and there. "
   ]
  },
  {
   "cell_type": "code",
   "execution_count": 6,
   "metadata": {},
   "outputs": [
    {
     "name": "stdout",
     "output_type": "stream",
     "text": [
      "4.300000000000001\n",
      "21.8\n"
     ]
    }
   ],
   "source": [
    "x =7\n",
    "y= 4.3\n",
    "z = 0\n",
    "print( y+x-7)\n",
    "\n",
    "c = y+3.5*x -7\n",
    "print (c)"
   ]
  },
  {
   "cell_type": "markdown",
   "metadata": {},
   "source": [
    "## <a id='toc1_3_'></a>[Exercise: get user input and perform calculation](#toc0_)"
   ]
  },
  {
   "cell_type": "code",
   "execution_count": 7,
   "metadata": {},
   "outputs": [
    {
     "name": "stdout",
     "output_type": "stream",
     "text": [
      "You entered length of side A = 3\n",
      "You entered length of side B = 6\n",
      "length of side C: 6.708203932499369\n"
     ]
    }
   ],
   "source": [
    "# Pythagorean Thereom - right triangle: \n",
    "# c**2 = a**2 + b**2\n",
    "import math\n",
    "a=input(\"enter length of side A:\")\n",
    "b=input(\"enter length of side B:\")\n",
    "print(\"You entered length of side A = \" + a)\n",
    "print(\"You entered length of side B = \" + b)\n",
    "c=math.sqrt(int(a)**2 + int(b)**2)\n",
    "print (\"length of side C: \" + str(c))\n"
   ]
  },
  {
   "cell_type": "markdown",
   "metadata": {},
   "source": [
    "## Initializing Variables Using `numpy`"
   ]
  },
  {
   "cell_type": "code",
   "execution_count": 8,
   "metadata": {},
   "outputs": [
    {
     "name": "stdout",
     "output_type": "stream",
     "text": [
      "[0. 0. 0.]\n",
      "[[0. 0.]\n",
      " [0. 0.]]\n"
     ]
    }
   ],
   "source": [
    "import numpy as np\n",
    "\n",
    "# fill array with zeros\n",
    "r = np.zeros(3)  # array containg 3 zero values\n",
    "print (r)\n",
    "\n",
    "r = np.zeros((2,2)) # a 2x2 array of zero values\n",
    "print(r)"
   ]
  },
  {
   "cell_type": "code",
   "execution_count": 9,
   "metadata": {},
   "outputs": [
    {
     "name": "stdout",
     "output_type": "stream",
     "text": [
      "[['a' 'a' 'a']\n",
      " ['a' 'a' 'a']]\n"
     ]
    }
   ],
   "source": [
    "r1 = np.full((2,3), \"a\")\n",
    "print (r1)"
   ]
  },
  {
   "cell_type": "markdown",
   "metadata": {},
   "source": [
    "# <a id='toc2_'></a>[List](#toc0_)\n",
    "Python lists can have data of mixed types, even lists nested in a list."
   ]
  },
  {
   "cell_type": "code",
   "execution_count": 10,
   "metadata": {},
   "outputs": [
    {
     "name": "stdout",
     "output_type": "stream",
     "text": [
      "[1, 2, 6.001, 'abc', 4, [0, 1, 2]]\n"
     ]
    },
    {
     "data": {
      "text/plain": [
       "list"
      ]
     },
     "execution_count": 10,
     "metadata": {},
     "output_type": "execute_result"
    }
   ],
   "source": [
    "aList = [1,2,6.001, \"abc\",4, [0,1,2]]\n",
    "print(aList)\n",
    "type(aList)"
   ]
  },
  {
   "cell_type": "markdown",
   "metadata": {},
   "source": [
    "## <a id='toc2_1_'></a>[List Indexing](#toc0_)\n",
    "Python is a zero-indexing language. List (and Tuple) is indexed starting from zero: "
   ]
  },
  {
   "cell_type": "code",
   "execution_count": 11,
   "metadata": {},
   "outputs": [
    {
     "name": "stdout",
     "output_type": "stream",
     "text": [
      "a\n"
     ]
    }
   ],
   "source": [
    "mylist = [\"a\", \"b\", \"c\"]\n",
    "print (mylist[0])"
   ]
  },
  {
   "cell_type": "markdown",
   "metadata": {},
   "source": [
    "## <a id='toc2_2_'></a>[List index must be integer or slice](#toc0_)\n",
    "### <a id='toc2_2_1_'></a>[Integer as Index](#toc0_)"
   ]
  },
  {
   "cell_type": "code",
   "execution_count": 12,
   "metadata": {},
   "outputs": [
    {
     "name": "stdout",
     "output_type": "stream",
     "text": [
      "[2.3, 3.3, 4.3]\n",
      "2.3\n"
     ]
    }
   ],
   "source": [
    "alist = [1, 2, 3, [2.3, 3.3, 4.3], 5, 6]\n",
    "print (alist[3])\n",
    "print (alist[3][0])"
   ]
  },
  {
   "cell_type": "markdown",
   "metadata": {},
   "source": [
    "### <a id='toc2_2_2_'></a>[Slice](#toc0_)\n",
    "A slice is a way to extract a portion of a sequence (such as a list, tuple, or string) without modifying the original sequence. Slicing allows you to specify a start, stop, and step value to define the portion you want to extract.\n",
    "\n",
    "Example of a slice expression: `sequence[start:stop:step]`"
   ]
  },
  {
   "cell_type": "code",
   "execution_count": 13,
   "metadata": {},
   "outputs": [
    {
     "name": "stdout",
     "output_type": "stream",
     "text": [
      "a = [0, 1, 2, 3, 4, 5, 6, 7, 8, 9]\n",
      "a[2 to 4] =  [2, 3, 4]\n",
      "a[2 to 10, step 2] =  [2, 4, 6, 8]\n",
      "a[::2] =  [0, 2, 4, 6, 8]\n",
      "a[::3] =  [0, 3, 6, 9]\n",
      "a[0::4] =  [0, 4, 8]\n"
     ]
    }
   ],
   "source": [
    "a = list(range(0, 10))\n",
    "print (\"a =\", a)\n",
    "print (\"a[2 to 4] = \", a[2:5:1])\n",
    "print (\"a[2 to 10, step 2] = \", a[2:10:2])\n",
    "print (\"a[::2] = \", a[::2])\n",
    "print (\"a[::3] = \", a[::3])\n",
    "print (\"a[0::4] = \", a[0::4])"
   ]
  },
  {
   "cell_type": "code",
   "execution_count": 14,
   "metadata": {},
   "outputs": [
    {
     "name": "stdout",
     "output_type": "stream",
     "text": [
      "a = [0, 1, 2, 3, 4, 5, 6, 7, 8, 9]\n",
      "reversed a =  [9, 8, 7, 6, 5, 4, 3, 2, 1, 0]\n"
     ]
    }
   ],
   "source": [
    "# Reversing a list\n",
    "a = list(range(0, 10))\n",
    "print (\"a =\", a)\n",
    "print (\"reversed a = \", a[::-1])"
   ]
  },
  {
   "cell_type": "markdown",
   "metadata": {},
   "source": [
    "## <a id='toc2_3_'></a>[Multi-line style of list definition](#toc0_)\n",
    "Indentation is critical in Python code formatting and syntax integrity. You can break long lines into multiple shorter lines to make code readable. "
   ]
  },
  {
   "cell_type": "code",
   "execution_count": 15,
   "metadata": {},
   "outputs": [
    {
     "name": "stdout",
     "output_type": "stream",
     "text": [
      "[1, 2, 'asdfasdfas', [0.1, 0.2, 0.3]]\n"
     ]
    }
   ],
   "source": [
    "aList = [\n",
    "    1, # this is fine\n",
    "    2, \n",
    "    \"asdfasdfas\", # also fine\n",
    "    [0.1, 0.2, 0.3],  # fine too\n",
    "]\n",
    "print (aList)"
   ]
  },
  {
   "cell_type": "markdown",
   "metadata": {},
   "source": [
    "## <a id='toc2_4_'></a>[List operations](#toc0_)\n",
    "\n",
    "* \"count\", \"in\", \"sort\", \"*\" (multiple with an integer) \n",
    "* \"insert\", \"append\", \"remove\""
   ]
  },
  {
   "cell_type": "code",
   "execution_count": 16,
   "metadata": {},
   "outputs": [
    {
     "name": "stdout",
     "output_type": "stream",
     "text": [
      "False True True\n"
     ]
    }
   ],
   "source": [
    "# using \"in\"\n",
    "print (2 not in aList, 10 not in aList, 0.2 not in aList)"
   ]
  },
  {
   "cell_type": "code",
   "execution_count": 17,
   "metadata": {},
   "outputs": [
    {
     "name": "stdout",
     "output_type": "stream",
     "text": [
      "None [0, 2, 3]\n"
     ]
    }
   ],
   "source": [
    "# Remove first occurence of given value\n",
    "l1 = [0,1, 2, 3]\n",
    "r = l1.remove(1)\n",
    "print (r, l1)"
   ]
  },
  {
   "cell_type": "markdown",
   "metadata": {},
   "source": [
    "### Overloaded List Operation - `+` Means Concatenation "
   ]
  },
  {
   "cell_type": "code",
   "execution_count": 18,
   "metadata": {},
   "outputs": [
    {
     "name": "stdout",
     "output_type": "stream",
     "text": [
      "l1 + l2 = [0, 1, 2, 3, 4, 5]\n"
     ]
    }
   ],
   "source": [
    "l1 = [0,1,2]\n",
    "l2 = [3,4,5]\n",
    "print (\"l1 + l2 = \" + str(l1+l2))\n"
   ]
  },
  {
   "cell_type": "markdown",
   "metadata": {},
   "source": [
    "### Overloaded List Operation - `*` Means Repeat "
   ]
  },
  {
   "cell_type": "code",
   "execution_count": 19,
   "metadata": {},
   "outputs": [
    {
     "name": "stdout",
     "output_type": "stream",
     "text": [
      "l1*2 = [1, 2, 3, 1, 2, 3]\n"
     ]
    }
   ],
   "source": [
    "# \"*\" is to repeat list by an int number (error if float is used)\n",
    "l1 = [1,2,3]\n",
    "print (\"l1*2 = \" + str(l1*2))"
   ]
  },
  {
   "cell_type": "markdown",
   "metadata": {},
   "source": [
    "# <a id='toc3_'></a>[Tuple](#toc0_)\n",
    "Like a list, but the notation use parenthesis instead of square brackets. \n",
    "\n",
    "* _List is mutable_\n",
    "* _Tuple is immutable_"
   ]
  },
  {
   "cell_type": "code",
   "execution_count": 20,
   "metadata": {},
   "outputs": [
    {
     "name": "stdout",
     "output_type": "stream",
     "text": [
      "(1, 'abc', 3.4) [1, 'abc', 3.4]\n",
      "aList:  1\n",
      "aTuple:  1\n"
     ]
    },
    {
     "ename": "TypeError",
     "evalue": "'tuple' object does not support item assignment",
     "output_type": "error",
     "traceback": [
      "\u001b[1;31m---------------------------------------------------------------------------\u001b[0m",
      "\u001b[1;31mTypeError\u001b[0m                                 Traceback (most recent call last)",
      "Cell \u001b[1;32mIn[20], line 11\u001b[0m\n\u001b[0;32m      8\u001b[0m \u001b[38;5;28mprint\u001b[39m (\u001b[38;5;124m\"\u001b[39m\u001b[38;5;124maTuple: \u001b[39m\u001b[38;5;124m\"\u001b[39m, aTuple[\u001b[38;5;241m0\u001b[39m])\n\u001b[0;32m     10\u001b[0m \u001b[38;5;66;03m# Immutable tuple\u001b[39;00m\n\u001b[1;32m---> 11\u001b[0m \u001b[43maTuple\u001b[49m\u001b[43m[\u001b[49m\u001b[38;5;241;43m1\u001b[39;49m\u001b[43m]\u001b[49m \u001b[38;5;241m=\u001b[39m \u001b[38;5;124m\"\u001b[39m\u001b[38;5;124mwow\u001b[39m\u001b[38;5;124m\"\u001b[39m\n",
      "\u001b[1;31mTypeError\u001b[0m: 'tuple' object does not support item assignment"
     ]
    }
   ],
   "source": [
    "# define a tuple\n",
    "aTuple = (1, \"abc\", 3.4)\n",
    "aList = [1, \"abc\", 3.4]\n",
    "print (aTuple, aList)\n",
    "\n",
    "# indexing\n",
    "print (\"aList: \", aList[0])\n",
    "print (\"aTuple: \", aTuple[0])\n",
    "\n",
    "# Immutable tuple\n",
    "aTuple[1] = \"wow\""
   ]
  },
  {
   "cell_type": "markdown",
   "metadata": {},
   "source": [
    "# <a id='toc4_'></a>[Boolean](#toc0_)\n",
    "\n",
    "Boolean data type has two exact-case values: `True, False`"
   ]
  },
  {
   "cell_type": "code",
   "execution_count": null,
   "metadata": {},
   "outputs": [
    {
     "name": "stdout",
     "output_type": "stream",
     "text": [
      "[True, False]\n"
     ]
    },
    {
     "ename": "NameError",
     "evalue": "name 'true' is not defined",
     "output_type": "error",
     "traceback": [
      "\u001b[1;31m---------------------------------------------------------------------------\u001b[0m",
      "\u001b[1;31mNameError\u001b[0m                                 Traceback (most recent call last)",
      "Cell \u001b[1;32mIn[39], line 5\u001b[0m\n\u001b[0;32m      2\u001b[0m \u001b[38;5;28mprint\u001b[39m (aBooleanList)\n\u001b[0;32m      4\u001b[0m \u001b[38;5;66;03m# incorrect cases\u001b[39;00m\n\u001b[1;32m----> 5\u001b[0m aBooleanList \u001b[38;5;241m=\u001b[39m [\u001b[43mtrue\u001b[49m, false]\n",
      "\u001b[1;31mNameError\u001b[0m: name 'true' is not defined"
     ]
    }
   ],
   "source": [
    "aBooleanList = [True, False]\n",
    "print (aBooleanList)\n",
    "\n",
    "# incorrect cases cauing error prompt in editor\n",
    "aBooleanList = [true, false]"
   ]
  },
  {
   "cell_type": "markdown",
   "metadata": {},
   "source": [
    "Converting between string and boolean"
   ]
  },
  {
   "cell_type": "code",
   "execution_count": null,
   "metadata": {},
   "outputs": [
    {
     "name": "stdout",
     "output_type": "stream",
     "text": [
      "True\n"
     ]
    },
    {
     "data": {
      "text/plain": [
       "bool"
      ]
     },
     "execution_count": 54,
     "metadata": {},
     "output_type": "execute_result"
    }
   ],
   "source": [
    "aBoolean = bool('true')\n",
    "print(aBoolean)\n",
    "type(aBoolean)\n"
   ]
  },
  {
   "cell_type": "code",
   "execution_count": null,
   "metadata": {},
   "outputs": [
    {
     "name": "stdout",
     "output_type": "stream",
     "text": [
      "True\n"
     ]
    },
    {
     "data": {
      "text/plain": [
       "str"
      ]
     },
     "execution_count": 56,
     "metadata": {},
     "output_type": "execute_result"
    }
   ],
   "source": [
    "astr = str(True)\n",
    "print (astr)\n",
    "type(astr)"
   ]
  },
  {
   "cell_type": "markdown",
   "metadata": {},
   "source": [
    "# <a id='toc5_'></a>[Dictionary - Key/Value Pairs](#toc0_)\n",
    "\n",
    "## <a id='toc5_1_'></a>[Defining a Dictionary](#toc0_)"
   ]
  },
  {
   "cell_type": "code",
   "execution_count": null,
   "metadata": {},
   "outputs": [
    {
     "data": {
      "text/plain": [
       "{}"
      ]
     },
     "execution_count": 62,
     "metadata": {},
     "output_type": "execute_result"
    }
   ],
   "source": [
    "# define an empty dictionary\n",
    "d = dict()\n",
    "d"
   ]
  },
  {
   "cell_type": "code",
   "execution_count": null,
   "metadata": {},
   "outputs": [
    {
     "name": "stdout",
     "output_type": "stream",
     "text": [
      "{'a_key': 'Alpha', 'b_key': 'Beta'}\n"
     ]
    }
   ],
   "source": [
    "# Populate a dictionary\n",
    "d['a_key'] = 'Alpha'\n",
    "d['b_key'] = 'Beta'\n",
    "print (d)"
   ]
  },
  {
   "cell_type": "markdown",
   "metadata": {},
   "source": [
    "## <a id='toc5_2_'></a>[Another Method of Defining Dictionaries](#toc0_)"
   ]
  },
  {
   "cell_type": "code",
   "execution_count": null,
   "metadata": {},
   "outputs": [
    {
     "name": "stdout",
     "output_type": "stream",
     "text": [
      "{'key_a': 'aaa', 'key_b': 'bbb', 'key_c': 'ccc'}\n"
     ]
    }
   ],
   "source": [
    "e = {\n",
    "    \"key_a\": \"aaa\", \"key_b\": \"bbb\", \"key_c\": \"ccc\"\n",
    "}\n",
    "print (e)"
   ]
  },
  {
   "cell_type": "markdown",
   "metadata": {},
   "source": [
    "## <a id='toc5_3_'></a>[Key Operations](#toc0_)\n",
    "### <a id='toc5_3_1_'></a>[Get keys](#toc0_)"
   ]
  },
  {
   "cell_type": "code",
   "execution_count": null,
   "metadata": {},
   "outputs": [
    {
     "name": "stdout",
     "output_type": "stream",
     "text": [
      "dict_keys(['key_a', 'key_b', 'key_c'])\n"
     ]
    }
   ],
   "source": [
    "print (e.keys())"
   ]
  },
  {
   "cell_type": "markdown",
   "metadata": {},
   "source": [
    "### <a id='toc5_3_2_'></a>[List Dictionary Items](#toc0_)"
   ]
  },
  {
   "cell_type": "code",
   "execution_count": null,
   "metadata": {},
   "outputs": [
    {
     "data": {
      "text/plain": [
       "dict_items([('key_a', 'aaa'), ('key_b', 'bbb'), ('key_c', 'ccc')])"
      ]
     },
     "execution_count": 67,
     "metadata": {},
     "output_type": "execute_result"
    }
   ],
   "source": [
    "e.items()"
   ]
  },
  {
   "cell_type": "markdown",
   "metadata": {},
   "source": [
    "### <a id='toc5_3_3_'></a>[Clearing Dictionary Content](#toc0_)"
   ]
  },
  {
   "cell_type": "code",
   "execution_count": null,
   "metadata": {},
   "outputs": [
    {
     "name": "stdout",
     "output_type": "stream",
     "text": [
      "{}\n"
     ]
    }
   ],
   "source": [
    "e = {\n",
    "    \"key_a\": \"aaa\", \"key_b\": \"bbb\", \"key_c\": \"ccc\"\n",
    "}\n",
    "e.clear()\n",
    "print (e)"
   ]
  },
  {
   "cell_type": "markdown",
   "metadata": {},
   "source": [
    "# Functions\n",
    "One defines a function using the `'def'` keyword. All code that belongs to the function must be properly indented. \n",
    "```python\n",
    "def my_function():\n",
    "    print(\"Hello from a function\")\n",
    "# this line is not part of my_function\n",
    "```\n",
    "\n",
    "___Lambda Function___\n",
    "\n",
    "A lambda function is a small, ***anonymous*** function defined using the lambda keyword. Unlike regular functions created with the def keyword, lambda functions are typically used for short, immediate operations. \n",
    "Lambda functions can be assigned to a variable: \n",
    "```python\n",
    "myFunc = lambda arguments: expression\n",
    "```\n"
   ]
  },
  {
   "cell_type": "code",
   "execution_count": null,
   "metadata": {},
   "outputs": [
    {
     "name": "stdout",
     "output_type": "stream",
     "text": [
      "15\n"
     ]
    }
   ],
   "source": [
    "add_ten = lambda x: x + 10\n",
    "print(add_ten(5))  # Output: 15"
   ]
  },
  {
   "cell_type": "markdown",
   "metadata": {},
   "source": [
    "___Exercise:___ \n",
    "\n",
    "Create a function that computes a factorial (n!), then compare with math.factorial()."
   ]
  },
  {
   "cell_type": "code",
   "execution_count": null,
   "metadata": {},
   "outputs": [
    {
     "name": "stdout",
     "output_type": "stream",
     "text": [
      "myFactorial(4)= 24\n",
      "np.factorial(4)= 24\n"
     ]
    }
   ],
   "source": [
    "import numpy as np\n",
    "import math\n",
    "def myFactorial(num):\n",
    "    nums = np.arange(start=num, stop=0, step=-1)\n",
    "    return np.prod(nums)\n",
    "\n",
    "print(\"myFactorial(4)=\", myFactorial(4))\n",
    "print(\"np.factorial(4)=\", math.factorial(4))"
   ]
  },
  {
   "cell_type": "markdown",
   "metadata": {},
   "source": [
    "It turns out that 'factorial` algorithm is quite difficult to implement correctly - try the following:"
   ]
  },
  {
   "cell_type": "code",
   "execution_count": null,
   "metadata": {},
   "outputs": [
    {
     "name": "stdout",
     "output_type": "stream",
     "text": [
      "-1250660718674968576 1124000727777607680000\n"
     ]
    }
   ],
   "source": [
    "print(myFactorial(22), math.factorial(22))"
   ]
  },
  {
   "cell_type": "markdown",
   "metadata": {},
   "source": [
    "Obviously the custom function myFactorial() didn't handle computer's numerical overflow when the input value is large enough. (math.factorial does handle this properly)"
   ]
  },
  {
   "cell_type": "markdown",
   "metadata": {},
   "source": [
    "## Scopes - Global and Local Variables\n",
    "Variables defined outside a function is in the 'global' scope; variables defined inside a function has 'local' scope and is accessible only from within the function itself. \n",
    "\n",
    "Within a function: \n",
    "*  if a variable is defined using the same name of a global variable, it will 100% override the global variable, making the global variable inaccessible; \n",
    "* however, you can still access a global variable if the function does not define any local variable using the same name."
   ]
  },
  {
   "cell_type": "code",
   "execution_count": 4,
   "metadata": {},
   "outputs": [],
   "source": [
    "\n",
    "\n",
    "def func(label):\n",
    "    xxx = 0\n",
    "    print (label, \"xyz=\", xyz)\n"
   ]
  },
  {
   "cell_type": "code",
   "execution_count": null,
   "metadata": {},
   "outputs": [
    {
     "name": "stdout",
     "output_type": "stream",
     "text": [
      "try #2 xyz= 2\n"
     ]
    }
   ],
   "source": [
    "# uncomment to get code error:\n",
    "# xxx\n",
    "\n",
    "xyz = 2\n",
    "func(\"try #2\") # since xyz is defined globally before we call func(), the print out get the correct value"
   ]
  },
  {
   "cell_type": "code",
   "execution_count": 12,
   "metadata": {},
   "outputs": [
    {
     "name": "stdout",
     "output_type": "stream",
     "text": [
      "xyz value in fuc2\n",
      "gloval scoped value is not impacted by local-scope override inside funct()\n"
     ]
    }
   ],
   "source": [
    "# now override the global variable xyz inside a function\n",
    "def func2():\n",
    "    xyz = \"xyz value in fuc2\"\n",
    "    print(xyz)\n",
    "\n",
    "xyz=\"gloval scoped value is not impacted by local-scope override inside funct()\"\n",
    "func2()\n",
    "print(xyz)"
   ]
  },
  {
   "cell_type": "markdown",
   "metadata": {},
   "source": [
    "## Assignment by Copy or Reference\n",
    "In Python, assignment of objects such as arrays, lists or tuples are by reference. "
   ]
  },
  {
   "cell_type": "code",
   "execution_count": 15,
   "metadata": {},
   "outputs": [
    {
     "name": "stdout",
     "output_type": "stream",
     "text": [
      "['a', 3] ['a', 3]\n",
      "2812921145728 2812921145728\n"
     ]
    }
   ],
   "source": [
    "# Proof of python assignment is by reference\n",
    "a = [1, 3]\n",
    "b = a\n",
    "b[0] = \"a\"\n",
    "print (a, b)\n",
    "print (id(a), id(b))\n",
    "\n",
    "# note that the two variables have same ID values"
   ]
  },
  {
   "cell_type": "markdown",
   "metadata": {},
   "source": [
    "### Forcing Assignment by Copy\n",
    "We use \"[:]\" to denote an assign-by-copy operation: "
   ]
  },
  {
   "cell_type": "code",
   "execution_count": null,
   "metadata": {},
   "outputs": [
    {
     "name": "stdout",
     "output_type": "stream",
     "text": [
      "[1, 3] ['a', 3]\n",
      "2812920880704 2812914464320\n"
     ]
    }
   ],
   "source": [
    "a = [1, 3]\n",
    "b = a[:]      # copy a into b, [:] is the \"slice\" operation\n",
    "b[0] = \"a\"\n",
    "\n",
    "print (a, b)\n",
    "print (id(a), id(b))"
   ]
  },
  {
   "cell_type": "markdown",
   "metadata": {},
   "source": [
    "___Note:___ the [:] operation has limitations - it can only be applied to simple data values. The code below shows that assign-by-copy doesn't work for dictionary"
   ]
  },
  {
   "cell_type": "code",
   "execution_count": 21,
   "metadata": {},
   "outputs": [
    {
     "ename": "KeyError",
     "evalue": "slice(None, None, None)",
     "output_type": "error",
     "traceback": [
      "\u001b[1;31m---------------------------------------------------------------------------\u001b[0m",
      "\u001b[1;31mKeyError\u001b[0m                                  Traceback (most recent call last)",
      "Cell \u001b[1;32mIn[21], line 2\u001b[0m\n\u001b[0;32m      1\u001b[0m a \u001b[38;5;241m=\u001b[39m {\u001b[38;5;124m\"\u001b[39m\u001b[38;5;124ma\u001b[39m\u001b[38;5;124m\"\u001b[39m: \u001b[38;5;241m1\u001b[39m, \u001b[38;5;124m\"\u001b[39m\u001b[38;5;124mb\u001b[39m\u001b[38;5;124m\"\u001b[39m : \u001b[38;5;241m2\u001b[39m}\n\u001b[1;32m----> 2\u001b[0m b \u001b[38;5;241m=\u001b[39m \u001b[43ma\u001b[49m\u001b[43m[\u001b[49m\u001b[43m:\u001b[49m\u001b[43m]\u001b[49m                \u001b[38;5;66;03m# this will fail at runtime because a dictionary cannot be sliced\u001b[39;00m\n\u001b[0;32m      3\u001b[0m b[\u001b[38;5;124m\"\u001b[39m\u001b[38;5;124ma\u001b[39m\u001b[38;5;124m\"\u001b[39m] \u001b[38;5;241m=\u001b[39m \u001b[38;5;241m0\u001b[39m\n\u001b[0;32m      5\u001b[0m \u001b[38;5;28mprint\u001b[39m (a, b)\n",
      "\u001b[1;31mKeyError\u001b[0m: slice(None, None, None)"
     ]
    }
   ],
   "source": [
    "a = {\"a\": 1, \"b\" : 2}\n",
    "b = a[:]                # this will fail at runtime because a dictionary cannot be sliced\n",
    "b[\"a\"] = 0\n",
    "\n",
    "print (a, b)\n",
    "print (id(a), id(b))"
   ]
  },
  {
   "cell_type": "markdown",
   "metadata": {},
   "source": [
    "# Class and Object Oriented Programming\n"
   ]
  },
  {
   "cell_type": "markdown",
   "metadata": {},
   "source": [
    "## Constructor\n",
    "1. Python constructors must be named \"__init__(self ...)\"\n",
    "2. \"self\" must be the first argument\n",
    "3. Class attributes do not need to be explicitly declared"
   ]
  },
  {
   "cell_type": "code",
   "execution_count": null,
   "metadata": {},
   "outputs": [
    {
     "name": "stdout",
     "output_type": "stream",
     "text": [
      "layers: 4, units: 10, name: Model #1\n"
     ]
    }
   ],
   "source": [
    "class MyModel():\n",
    "\n",
    "    # constructor: must be named \"__init__\"\n",
    "    def __init__(self, numlayers, numunits, name):\n",
    "        # transfer constructor input to the class's attributes\n",
    "        self.layers = numlayers\n",
    "        self.units = numunits\n",
    "        self.name = name\n",
    "\n",
    "    # try remove \"self\" from the argument list - you'll see error\n",
    "    def test(self):\n",
    "        print (f\"layers: {self.layers}, units: {self.units}, name: {self.name}\")\n",
    "\n",
    "myModel = MyModel(4, 10, \"Model #1\")\n",
    "myModel.test()"
   ]
  },
  {
   "cell_type": "markdown",
   "metadata": {},
   "source": [
    "## Different Types of Methods\n",
    "The concept of method types is similar to Java methods:\n",
    "* Instance method\n",
    "* Class method\n",
    "* Static method\n",
    "\n",
    "### Instance Methods\n",
    "All instance methods of a class must include `self` as the first parameter. This allows the method to access and modify the instance's attributes and other methods. Without `self`, the method cannot be called on an instance of the class, and you'll encounter a `TypeError`.\n",
    "\n",
    "###  Class Methods\n",
    "Methods that only operate on the Class itself and not on any specific instances. Such methods must use `@classmethod` decorator and include `cls` as the first parameter to access class-specific data.\n",
    "\n",
    "```python\n",
    "@classmethod\n",
    "def my_class_method(cls ...)\n",
    "    ......\n",
    "```\n",
    "\n",
    "### Static Methods\n",
    "Methods that neither operate on the instance nor on the class itself. Such methods should use `@staticmethod` decorator and do not require `self` or `cls` as parameters.\n",
    "\n",
    "```python\n",
    "# this method can accept arguments but cannot access the class or instance\n",
    "@staticmethod\n",
    "def my_static_method(...)  \n",
    "    ......\n",
    "```"
   ]
  },
  {
   "cell_type": "markdown",
   "metadata": {},
   "source": [
    "### The Equivalent to Java toString()\n",
    "Python classes can define a \"__str__\" method to customize the text presentation of its instances. "
   ]
  },
  {
   "cell_type": "code",
   "execution_count": 26,
   "metadata": {},
   "outputs": [
    {
     "name": "stdout",
     "output_type": "stream",
     "text": [
      "I am MyClass instance with name 'toString() equivalent'\n"
     ]
    }
   ],
   "source": [
    "class MyClass():\n",
    "\n",
    "    def __init__(self):\n",
    "        self.name = \"toString() equivalent\"\n",
    "\n",
    "    def __str__(self):\n",
    "        return f\"I am MyClass instance with name '{self.name}'\"\n",
    "    \n",
    "mc = MyClass()\n",
    "print (str(mc))"
   ]
  },
  {
   "cell_type": "markdown",
   "metadata": {},
   "source": [
    "# Python's Flow Control Statements"
   ]
  },
  {
   "cell_type": "markdown",
   "metadata": {},
   "source": [
    "## if / else / elif\n",
    "The following is a typical way of using if, else and elif (else if):"
   ]
  },
  {
   "cell_type": "code",
   "execution_count": 29,
   "metadata": {},
   "outputs": [
    {
     "name": "stdout",
     "output_type": "stream",
     "text": [
      "it is false\n"
     ]
    }
   ],
   "source": [
    "x= False\n",
    "if (x == True): \n",
    "    print (\"it is true\")\n",
    "elif x == False:\n",
    "    print (\"it is false\")\n",
    "else:\n",
    "    print (\"it failed!\")"
   ]
  },
  {
   "cell_type": "markdown",
   "metadata": {},
   "source": [
    "## for loops"
   ]
  },
  {
   "cell_type": "code",
   "execution_count": null,
   "metadata": {},
   "outputs": [
    {
     "name": "stdout",
     "output_type": "stream",
     "text": [
      "0\n",
      "1\n",
      "2\n"
     ]
    }
   ],
   "source": [
    "for i in range (3):\n",
    "    print (i)"
   ]
  },
  {
   "cell_type": "markdown",
   "metadata": {},
   "source": [
    "### Using `enumerate`"
   ]
  },
  {
   "cell_type": "code",
   "execution_count": null,
   "metadata": {},
   "outputs": [
    {
     "name": "stdout",
     "output_type": "stream",
     "text": [
      "0 1.0\n",
      "1 1.5\n",
      "2 2.0\n",
      "3 2.5\n",
      "4 3.0\n"
     ]
    }
   ],
   "source": [
    "ary = np.linspace(1, 3, 5)\n",
    "for i,v in enumerate(ary):   # using enumerate\n",
    "    print (i, v)"
   ]
  },
  {
   "cell_type": "markdown",
   "metadata": {},
   "source": [
    "### Using `zip`\n",
    "`zip` helps make looping code more clear. \n",
    "\n",
    "___Tip___ `zip` only goes as far as the shorter one of the two lists goes "
   ]
  },
  {
   "cell_type": "code",
   "execution_count": 46,
   "metadata": {},
   "outputs": [
    {
     "name": "stdout",
     "output_type": "stream",
     "text": [
      "1, a\n",
      "2, b\n",
      "3, c\n"
     ]
    }
   ],
   "source": [
    "listA = [1,2,3,4,5]\n",
    "listB = ['a', 'b', 'c']\n",
    "\n",
    "for a,b in zip(listA, listB):\n",
    "    print (str(a) + \", \" + str(b))"
   ]
  },
  {
   "cell_type": "markdown",
   "metadata": {},
   "source": [
    "### Short-Circuiting a Loop - `continue`"
   ]
  },
  {
   "cell_type": "code",
   "execution_count": 1,
   "metadata": {},
   "outputs": [
    {
     "name": "stdout",
     "output_type": "stream",
     "text": [
      "1\n",
      "3\n"
     ]
    }
   ],
   "source": [
    "for i in range(4):\n",
    "    if i % 2 == 0:\n",
    "        continue    # Even values are bypassed for printing\n",
    "    # only print if the number is odd\n",
    "    print (i)"
   ]
  },
  {
   "cell_type": "markdown",
   "metadata": {},
   "source": [
    "## List Comprehension - Single Line Loops\n",
    "A single line loop in Python is often referred to as a list comprehension. This is a concise way to create lists. List comprehensions allow you to generate new lists by applying an expression to each item in an existing iterable (like a list, tuple, or range).\n",
    "\n",
    "The basic syntax for a list comprehension is:\n",
    "```python\n",
    "[expression for item in iterable if condition]\n",
    "```"
   ]
  },
  {
   "cell_type": "code",
   "execution_count": 4,
   "metadata": {},
   "outputs": [
    {
     "name": "stdout",
     "output_type": "stream",
     "text": [
      "[1, 9, 25, 49, 81]\n"
     ]
    }
   ],
   "source": [
    "# List of squares of numbers from 0 to 9 \n",
    "squares = [x**2 for x in range(10) if x % 2 == 1]\n",
    "print(squares)"
   ]
  },
  {
   "cell_type": "markdown",
   "metadata": {},
   "source": [
    "## `while` Loop\n",
    "___Important:___ Pay close attention to the condition that keeps `while` loop going. It only takes a very casual oversight or typo to get a \"dead-loop\"."
   ]
  },
  {
   "cell_type": "code",
   "execution_count": 10,
   "metadata": {},
   "outputs": [
    {
     "name": "stdout",
     "output_type": "stream",
     "text": [
      "do something 0\n",
      "do something 1\n",
      "do something 2\n",
      "do something 3\n"
     ]
    }
   ],
   "source": [
    "toggle = True\n",
    "i = 0\n",
    "\n",
    "while toggle:\n",
    "    print(\"do something \" + str(i))\n",
    "    \n",
    "    if (i > 2):\n",
    "        toggle = False  # this will cause the execution go out of the loop\n",
    "\n",
    "    i = i + 1   #try move this line before the 'if' statement and compare the output"
   ]
  },
  {
   "cell_type": "code",
   "execution_count": null,
   "metadata": {},
   "outputs": [],
   "source": [
    "import numpy as np\n",
    "import matplotlib.pyplot as plt\n",
    "import seaborn as sns\n",
    "\n",
    "# Parameters\n",
    "lambda_ = 3  # Average rate (mean number of events)\n",
    "size = 1000  # Number of samples\n",
    "\n",
    "# Generate Poisson-distributed data\n",
    "data = np.random.poisson(lambda_, size)\n",
    "\n",
    "# Plot the distribution\n",
    "sns.histplot(data, kde=False, stat='density', bins=range(0, 10))\n",
    "plt.title('Poisson Distribution (λ=3)')\n",
    "plt.xlabel('Number of events')\n",
    "plt.ylabel('Probability')\n",
    "plt.show()\n"
   ]
  }
 ],
 "metadata": {
  "kernelspec": {
   "display_name": "Python 3",
   "language": "python",
   "name": "python3"
  },
  "language_info": {
   "codemirror_mode": {
    "name": "ipython",
    "version": 3
   },
   "file_extension": ".py",
   "mimetype": "text/x-python",
   "name": "python",
   "nbconvert_exporter": "python",
   "pygments_lexer": "ipython3",
   "version": "3.12.3"
  }
 },
 "nbformat": 4,
 "nbformat_minor": 2
}
