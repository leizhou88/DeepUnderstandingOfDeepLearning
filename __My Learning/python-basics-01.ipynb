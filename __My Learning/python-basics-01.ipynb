{
 "cells": [
  {
   "cell_type": "markdown",
   "metadata": {},
   "source": [
    "# <a id='toc1_'></a>[Data type, Variables, Assignments and Output Commands](#toc0_)"
   ]
  },
  {
   "cell_type": "markdown",
   "metadata": {},
   "source": [
    "## <a id='toc1_1_'></a>[Assign values to variables - no need to declare if a variable is used in local scope only.](#toc0_)"
   ]
  },
  {
   "cell_type": "code",
   "execution_count": 40,
   "metadata": {},
   "outputs": [
    {
     "data": {
      "text/plain": [
       "('a', 'b')"
      ]
     },
     "execution_count": 40,
     "metadata": {},
     "output_type": "execute_result"
    }
   ],
   "source": [
    "a = \"a\"\n",
    "b = \"b\"\n",
    "a,  b"
   ]
  },
  {
   "cell_type": "code",
   "execution_count": 41,
   "metadata": {},
   "outputs": [
    {
     "name": "stdout",
     "output_type": "stream",
     "text": [
      "a b\n"
     ]
    }
   ],
   "source": [
    "# multiple assignments to more than one variables\n",
    "a, b = \"a\", \"b\"\n",
    "print (a, b)"
   ]
  },
  {
   "cell_type": "markdown",
   "metadata": {},
   "source": [
    "if 'print' is not used, the last output will overwrite all previous outputs"
   ]
  },
  {
   "cell_type": "code",
   "execution_count": 42,
   "metadata": {},
   "outputs": [
    {
     "data": {
      "text/plain": [
       "5.0"
      ]
     },
     "execution_count": 42,
     "metadata": {},
     "output_type": "execute_result"
    }
   ],
   "source": [
    "a = 4\n",
    "b = 5.00\n",
    "a\n",
    "b"
   ]
  },
  {
   "cell_type": "markdown",
   "metadata": {},
   "source": [
    "'print' command ensures all outputs are visible in the notebook"
   ]
  },
  {
   "cell_type": "code",
   "execution_count": 43,
   "metadata": {},
   "outputs": [
    {
     "name": "stdout",
     "output_type": "stream",
     "text": [
      "4\n",
      "5.0\n"
     ]
    }
   ],
   "source": [
    "a = 4\n",
    "b = 5.00\n",
    "print(a)   \n",
    "print(b)"
   ]
  },
  {
   "cell_type": "markdown",
   "metadata": {},
   "source": [
    "Inspect data types"
   ]
  },
  {
   "cell_type": "code",
   "execution_count": null,
   "metadata": {},
   "outputs": [
    {
     "name": "stdout",
     "output_type": "stream",
     "text": [
      "<class 'str'>\n",
      "<class 'float'>\n"
     ]
    }
   ],
   "source": [
    "a = '4'\n",
    "b = 5.00\n",
    "print (type(a))\n",
    "print (type(b))"
   ]
  },
  {
   "cell_type": "markdown",
   "metadata": {},
   "source": [
    "## <a id='toc1_2_'></a>[Imperfect Precisions of Computer Floating Point](#toc0_)\n",
    "Computers use floating point numbers to mimic algebra, however, tiny computer rounding errors occur frequently here and there. "
   ]
  },
  {
   "cell_type": "code",
   "execution_count": null,
   "metadata": {},
   "outputs": [
    {
     "name": "stdout",
     "output_type": "stream",
     "text": [
      "4.300000000000001\n",
      "21.8\n"
     ]
    }
   ],
   "source": [
    "x =7\n",
    "y= 4.3\n",
    "z = 0\n",
    "print( y+x-7)\n",
    "\n",
    "c = y+3.5*x -7\n",
    "print (c)"
   ]
  },
  {
   "cell_type": "markdown",
   "metadata": {},
   "source": [
    "## <a id='toc1_3_'></a>[Exercise: get user input and perform calculation](#toc0_)"
   ]
  },
  {
   "cell_type": "code",
   "execution_count": null,
   "metadata": {},
   "outputs": [
    {
     "name": "stdout",
     "output_type": "stream",
     "text": [
      "You entered length of side A = 1\n",
      "You entered length of side B = 1\n",
      "length of side C: 1.4142135623730951\n"
     ]
    }
   ],
   "source": [
    "# Pythagorean Thereom - right triangle: \n",
    "# c**2 = a**2 + b**2\n",
    "import math\n",
    "a=input(\"enter length of side A:\")\n",
    "b=input(\"enter length of side B:\")\n",
    "print(\"You entered length of side A = \" + a)\n",
    "print(\"You entered length of side B = \" + b)\n",
    "c=math.sqrt(int(a)**2 + int(b)**2)\n",
    "print (\"length of side C: \" + str(c))\n"
   ]
  },
  {
   "cell_type": "markdown",
   "metadata": {},
   "source": [
    "# <a id='toc2_'></a>[List](#toc0_)\n",
    "Python lists can have data of mixed types, even lists nested in a list."
   ]
  },
  {
   "cell_type": "code",
   "execution_count": null,
   "metadata": {},
   "outputs": [
    {
     "name": "stdout",
     "output_type": "stream",
     "text": [
      "[1, 2, 6.001, 'abc', 4, [0, 1, 2]]\n"
     ]
    },
    {
     "data": {
      "text/plain": [
       "list"
      ]
     },
     "execution_count": 47,
     "metadata": {},
     "output_type": "execute_result"
    }
   ],
   "source": [
    "aList = [1,2,6.001, \"abc\",4, [0,1,2]]\n",
    "print(aList)\n",
    "type(aList)"
   ]
  },
  {
   "cell_type": "markdown",
   "metadata": {},
   "source": [
    "## <a id='toc2_1_'></a>[List Indexing](#toc0_)\n",
    "Python is a zero-indexing language. List (and Tuple) is indexed starting from zero: "
   ]
  },
  {
   "cell_type": "code",
   "execution_count": 71,
   "metadata": {},
   "outputs": [
    {
     "name": "stdout",
     "output_type": "stream",
     "text": [
      "a\n"
     ]
    }
   ],
   "source": [
    "mylist = [\"a\", \"b\", \"c\"]\n",
    "print (mylist[0])"
   ]
  },
  {
   "cell_type": "markdown",
   "metadata": {},
   "source": [
    "## <a id='toc2_2_'></a>[List index must be integer or slice](#toc0_)\n",
    "### <a id='toc2_2_1_'></a>[Integer as Index](#toc0_)"
   ]
  },
  {
   "cell_type": "code",
   "execution_count": 73,
   "metadata": {},
   "outputs": [
    {
     "name": "stdout",
     "output_type": "stream",
     "text": [
      "[2.3, 3.3, 4.3]\n",
      "2.3\n"
     ]
    }
   ],
   "source": [
    "alist = [1, 2, 3, [2.3, 3.3, 4.3], 5, 6]\n",
    "print (alist[3])\n",
    "print (alist[3][0])"
   ]
  },
  {
   "cell_type": "markdown",
   "metadata": {},
   "source": [
    "### <a id='toc2_2_2_'></a>[Slice](#toc0_)\n",
    "A slice is a way to extract a portion of a sequence (such as a list, tuple, or string) without modifying the original sequence. Slicing allows you to specify a start, stop, and step value to define the portion you want to extract.\n",
    "```\n",
    "sequence[start:stop:step]\n",
    "```"
   ]
  },
  {
   "cell_type": "code",
   "execution_count": 81,
   "metadata": {},
   "outputs": [
    {
     "name": "stdout",
     "output_type": "stream",
     "text": [
      "a = [0, 1, 2, 3, 4, 5, 6, 7, 8, 9]\n",
      "a[2 to 4] =  [2, 3, 4]\n",
      "a[2 to 10, step 2] =  [2, 4, 6, 8]\n",
      "a[::2] =  [0, 2, 4, 6, 8]\n",
      "a[::3] =  [0, 3, 6, 9]\n",
      "a[0::4] =  [0, 4, 8]\n"
     ]
    }
   ],
   "source": [
    "a = list(range(0, 10))\n",
    "print (\"a =\", a)\n",
    "print (\"a[2 to 4] = \", a[2:5:1])\n",
    "print (\"a[2 to 10, step 2] = \", a[2:10:2])\n",
    "print (\"a[::2] = \", a[::2])\n",
    "print (\"a[::3] = \", a[::3])\n",
    "print (\"a[0::4] = \", a[0::4])"
   ]
  },
  {
   "cell_type": "code",
   "execution_count": 82,
   "metadata": {},
   "outputs": [
    {
     "name": "stdout",
     "output_type": "stream",
     "text": [
      "a = [0, 1, 2, 3, 4, 5, 6, 7, 8, 9]\n",
      "reversed a =  [9, 8, 7, 6, 5, 4, 3, 2, 1, 0]\n"
     ]
    }
   ],
   "source": [
    "# Reversing a list\n",
    "a = list(range(0, 10))\n",
    "print (\"a =\", a)\n",
    "print (\"reversed a = \", a[::-1])"
   ]
  },
  {
   "cell_type": "markdown",
   "metadata": {},
   "source": [
    "## <a id='toc2_3_'></a>[Multi-line style of list definition](#toc0_)"
   ]
  },
  {
   "cell_type": "code",
   "execution_count": null,
   "metadata": {},
   "outputs": [
    {
     "name": "stdout",
     "output_type": "stream",
     "text": [
      "[1, 2, 'asdfasdfas', [0.1, 0.2, 0.3]]\n"
     ]
    }
   ],
   "source": [
    "aList = [\n",
    "    1, # this is fine\n",
    "    2, \n",
    "    \"asdfasdfas\", # also fine\n",
    "    [0.1, 0.2, 0.3],  # fine too\n",
    "]\n",
    "print (aList)"
   ]
  },
  {
   "cell_type": "markdown",
   "metadata": {},
   "source": [
    "## <a id='toc2_4_'></a>[List operations](#toc0_)\n",
    "\n",
    "* \"count\", \"in\", \"sort\", \"*\" (multiple with an integer) \n",
    "* \"insert\", \"append\", \"remove\""
   ]
  },
  {
   "cell_type": "code",
   "execution_count": 49,
   "metadata": {},
   "outputs": [
    {
     "name": "stdout",
     "output_type": "stream",
     "text": [
      "False True True\n",
      "[1, 2, 'asdfasdfas', [0.1, 0.2, 0.3], 1, 2, 'asdfasdfas', [0.1, 0.2, 0.3]]\n"
     ]
    }
   ],
   "source": [
    "# using \"in\"\n",
    "print (2 not in aList, 10 not in aList, 0.2 not in aList)\n",
    "\n",
    "# repeats the given list and append to the end of the original one\n",
    "print (aList * 2)\n"
   ]
  },
  {
   "cell_type": "code",
   "execution_count": 50,
   "metadata": {},
   "outputs": [
    {
     "name": "stdout",
     "output_type": "stream",
     "text": [
      "l1 + l2 = [0, 1, 2, 3, 4, 5]\n",
      "l1 * l2 = [0, 1, 2, 0, 1, 2]\n"
     ]
    }
   ],
   "source": [
    "# Operators overload\n",
    "\n",
    "## \"+\" is to concatenate lists\n",
    "l1 = [0,1,2]\n",
    "l2 = [3,4,5]\n",
    "print (\"l1 + l2 = \" + str(l1+l2))\n",
    "\n",
    "## \"-\" is not valid\n",
    "# l1 = [0,1,2]\n",
    "# l2 = [3,4,5]\n",
    "# print (\"l1 - l2 = \" + str(l1-l2))\n",
    "\n",
    "## \"*\" is to repeat list by an int number (error if float is used)\n",
    "# l1 = [0,1,2]\n",
    "print (\"l1 * l2 = \" + str(l1*2))"
   ]
  },
  {
   "cell_type": "code",
   "execution_count": null,
   "metadata": {},
   "outputs": [
    {
     "name": "stdout",
     "output_type": "stream",
     "text": [
      "None [0, 2, 1]\n"
     ]
    }
   ],
   "source": [
    "# Remove first occurence of given value\n",
    "l1 = [0,1,2, 1]\n",
    "r = l1.remove(1)\n",
    "print (r, l1)"
   ]
  },
  {
   "cell_type": "markdown",
   "metadata": {},
   "source": [
    "# <a id='toc3_'></a>[Tuple](#toc0_)\n",
    "Like a list, but the notation use parenthesis instead of square brackets. \n",
    "\n",
    "* List is mutable\n",
    "* Tuple is immutable"
   ]
  },
  {
   "cell_type": "code",
   "execution_count": null,
   "metadata": {},
   "outputs": [
    {
     "name": "stdout",
     "output_type": "stream",
     "text": [
      "(1, 'abc', 3.4) [1, 'abc', 3.4]\n",
      "aList:  1\n",
      "aTuple:  1\n"
     ]
    },
    {
     "ename": "TypeError",
     "evalue": "'tuple' object does not support item assignment",
     "output_type": "error",
     "traceback": [
      "\u001b[1;31m---------------------------------------------------------------------------\u001b[0m",
      "\u001b[1;31mTypeError\u001b[0m                                 Traceback (most recent call last)",
      "Cell \u001b[1;32mIn[52], line 11\u001b[0m\n\u001b[0;32m      8\u001b[0m \u001b[38;5;28mprint\u001b[39m (\u001b[38;5;124m\"\u001b[39m\u001b[38;5;124maTuple: \u001b[39m\u001b[38;5;124m\"\u001b[39m, aTuple[\u001b[38;5;241m0\u001b[39m])\n\u001b[0;32m     10\u001b[0m \u001b[38;5;66;03m# Immutable tuple\u001b[39;00m\n\u001b[1;32m---> 11\u001b[0m \u001b[43maTuple\u001b[49m\u001b[43m[\u001b[49m\u001b[38;5;241;43m1\u001b[39;49m\u001b[43m]\u001b[49m \u001b[38;5;241m=\u001b[39m \u001b[38;5;124m\"\u001b[39m\u001b[38;5;124mwow\u001b[39m\u001b[38;5;124m\"\u001b[39m\n",
      "\u001b[1;31mTypeError\u001b[0m: 'tuple' object does not support item assignment"
     ]
    }
   ],
   "source": [
    "# define a tuple\n",
    "aTuple = (1, \"abc\", 3.4)\n",
    "aList = [1, \"abc\", 3.4]\n",
    "print (aTuple, aList)\n",
    "\n",
    "# indexing\n",
    "print (\"aList: \", aList[0])\n",
    "print (\"aTuple: \", aTuple[0])\n",
    "\n",
    "# Immutable tuple\n",
    "aTuple[1] = \"wow\""
   ]
  },
  {
   "cell_type": "markdown",
   "metadata": {},
   "source": [
    "# <a id='toc4_'></a>[Bolean](#toc0_)\n",
    "\n",
    "Boolean data type has two (Exact) case values: True, False"
   ]
  },
  {
   "cell_type": "code",
   "execution_count": null,
   "metadata": {},
   "outputs": [
    {
     "name": "stdout",
     "output_type": "stream",
     "text": [
      "[True, False]\n"
     ]
    },
    {
     "ename": "NameError",
     "evalue": "name 'true' is not defined",
     "output_type": "error",
     "traceback": [
      "\u001b[1;31m---------------------------------------------------------------------------\u001b[0m",
      "\u001b[1;31mNameError\u001b[0m                                 Traceback (most recent call last)",
      "Cell \u001b[1;32mIn[39], line 5\u001b[0m\n\u001b[0;32m      2\u001b[0m \u001b[38;5;28mprint\u001b[39m (aBooleanList)\n\u001b[0;32m      4\u001b[0m \u001b[38;5;66;03m# incorrect cases\u001b[39;00m\n\u001b[1;32m----> 5\u001b[0m aBooleanList \u001b[38;5;241m=\u001b[39m [\u001b[43mtrue\u001b[49m, false]\n",
      "\u001b[1;31mNameError\u001b[0m: name 'true' is not defined"
     ]
    }
   ],
   "source": [
    "aBooleanList = [True, False]\n",
    "print (aBooleanList)\n",
    "\n",
    "# incorrect cases\n",
    "aBooleanList = [true, false]"
   ]
  },
  {
   "cell_type": "markdown",
   "metadata": {},
   "source": [
    "Converting between string and boolean"
   ]
  },
  {
   "cell_type": "code",
   "execution_count": 54,
   "metadata": {},
   "outputs": [
    {
     "name": "stdout",
     "output_type": "stream",
     "text": [
      "True\n"
     ]
    },
    {
     "data": {
      "text/plain": [
       "bool"
      ]
     },
     "execution_count": 54,
     "metadata": {},
     "output_type": "execute_result"
    }
   ],
   "source": [
    "aBoolean = bool('true')\n",
    "print(aBoolean)\n",
    "type(aBoolean)\n"
   ]
  },
  {
   "cell_type": "code",
   "execution_count": 56,
   "metadata": {},
   "outputs": [
    {
     "name": "stdout",
     "output_type": "stream",
     "text": [
      "True\n"
     ]
    },
    {
     "data": {
      "text/plain": [
       "str"
      ]
     },
     "execution_count": 56,
     "metadata": {},
     "output_type": "execute_result"
    }
   ],
   "source": [
    "astr = str(True)\n",
    "print (astr)\n",
    "type(astr)"
   ]
  },
  {
   "cell_type": "markdown",
   "metadata": {},
   "source": [
    "# <a id='toc5_'></a>[Dictionary - Key/Value Pairs](#toc0_)\n",
    "\n",
    "## <a id='toc5_1_'></a>[Defining a Dictionary](#toc0_)"
   ]
  },
  {
   "cell_type": "code",
   "execution_count": 62,
   "metadata": {},
   "outputs": [
    {
     "data": {
      "text/plain": [
       "{}"
      ]
     },
     "execution_count": 62,
     "metadata": {},
     "output_type": "execute_result"
    }
   ],
   "source": [
    "# define an empty dictionary\n",
    "d = dict()\n",
    "d"
   ]
  },
  {
   "cell_type": "code",
   "execution_count": 63,
   "metadata": {},
   "outputs": [
    {
     "name": "stdout",
     "output_type": "stream",
     "text": [
      "{'a_key': 'Alpha', 'b_key': 'Beta'}\n"
     ]
    }
   ],
   "source": [
    "# Populate a dictionary\n",
    "d['a_key'] = 'Alpha'\n",
    "d['b_key'] = 'Beta'\n",
    "print (d)"
   ]
  },
  {
   "cell_type": "markdown",
   "metadata": {},
   "source": [
    "## <a id='toc5_2_'></a>[Another Method of Defining Dictionaries](#toc0_)"
   ]
  },
  {
   "cell_type": "code",
   "execution_count": 64,
   "metadata": {},
   "outputs": [
    {
     "name": "stdout",
     "output_type": "stream",
     "text": [
      "{'key_a': 'aaa', 'key_b': 'bbb', 'key_c': 'ccc'}\n"
     ]
    }
   ],
   "source": [
    "e = {\n",
    "    \"key_a\": \"aaa\", \"key_b\": \"bbb\", \"key_c\": \"ccc\"\n",
    "}\n",
    "print (e)"
   ]
  },
  {
   "cell_type": "markdown",
   "metadata": {},
   "source": [
    "## <a id='toc5_3_'></a>[Key Operations](#toc0_)\n",
    "### <a id='toc5_3_1_'></a>[Get keys](#toc0_)"
   ]
  },
  {
   "cell_type": "code",
   "execution_count": null,
   "metadata": {},
   "outputs": [
    {
     "name": "stdout",
     "output_type": "stream",
     "text": [
      "dict_keys(['key_a', 'key_b', 'key_c'])\n"
     ]
    }
   ],
   "source": [
    "print (e.keys())"
   ]
  },
  {
   "cell_type": "markdown",
   "metadata": {},
   "source": [
    "### <a id='toc5_3_2_'></a>[List Dictionary Items](#toc0_)"
   ]
  },
  {
   "cell_type": "code",
   "execution_count": 67,
   "metadata": {},
   "outputs": [
    {
     "data": {
      "text/plain": [
       "dict_items([('key_a', 'aaa'), ('key_b', 'bbb'), ('key_c', 'ccc')])"
      ]
     },
     "execution_count": 67,
     "metadata": {},
     "output_type": "execute_result"
    }
   ],
   "source": [
    "e.items()"
   ]
  },
  {
   "cell_type": "markdown",
   "metadata": {},
   "source": [
    "### <a id='toc5_3_3_'></a>[Clearing Dictionary Content](#toc0_)"
   ]
  },
  {
   "cell_type": "code",
   "execution_count": 69,
   "metadata": {},
   "outputs": [
    {
     "name": "stdout",
     "output_type": "stream",
     "text": [
      "{}\n"
     ]
    }
   ],
   "source": [
    "e = {\n",
    "    \"key_a\": \"aaa\", \"key_b\": \"bbb\", \"key_c\": \"ccc\"\n",
    "}\n",
    "e.clear()\n",
    "print (e)"
   ]
  },
  {
   "cell_type": "markdown",
   "metadata": {},
   "source": [
    "# Functions\n",
    "One defines a function using the `'def'` keyword. All code that belongs to the function must be properly indented. \n",
    "```\n",
    "def my_function():\n",
    "    print(\"Hello from a function\")\n",
    "# this line is not part of my_function\n",
    "```\n",
    "\n",
    "___Lambda Function___\n",
    "\n",
    "A lambda function is a small, ***anonymous*** function defined using the lambda keyword. Unlike regular functions created with the def keyword, lambda functions are typically used for short, immediate operations. \n",
    "Lambda functions can be assigned to a variable: \n",
    "```\n",
    "myFunc = lambda arguments: expression\n",
    "```\n"
   ]
  },
  {
   "cell_type": "code",
   "execution_count": 1,
   "metadata": {},
   "outputs": [
    {
     "name": "stdout",
     "output_type": "stream",
     "text": [
      "15\n"
     ]
    }
   ],
   "source": [
    "add_ten = lambda x: x + 10\n",
    "print(add_ten(5))  # Output: 15"
   ]
  },
  {
   "cell_type": "markdown",
   "metadata": {},
   "source": [
    "___Exercise:___ \n",
    "\n",
    "Create a function that computes a factorial (n!), then compare with math.factorial()."
   ]
  },
  {
   "cell_type": "code",
   "execution_count": 5,
   "metadata": {},
   "outputs": [
    {
     "name": "stdout",
     "output_type": "stream",
     "text": [
      "myFactorial(4)= 24\n",
      "np.factorial(4)= 24\n"
     ]
    }
   ],
   "source": [
    "import numpy as np\n",
    "import math\n",
    "def myFactorial(num):\n",
    "    nums = np.arange(start=num, stop=0, step=-1)\n",
    "    return np.prod(nums)\n",
    "\n",
    "print(\"myFactorial(4)=\", myFactorial(4))\n",
    "print(\"np.factorial(4)=\", math.factorial(4))"
   ]
  }
 ],
 "metadata": {
  "kernelspec": {
   "display_name": "Python 3",
   "language": "python",
   "name": "python3"
  },
  "language_info": {
   "codemirror_mode": {
    "name": "ipython",
    "version": 3
   },
   "file_extension": ".py",
   "mimetype": "text/x-python",
   "name": "python",
   "nbconvert_exporter": "python",
   "pygments_lexer": "ipython3",
   "version": "3.12.3"
  }
 },
 "nbformat": 4,
 "nbformat_minor": 2
}
